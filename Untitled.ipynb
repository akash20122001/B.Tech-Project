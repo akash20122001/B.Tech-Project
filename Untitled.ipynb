{
 "cells": [
  {
   "cell_type": "code",
   "execution_count": 1,
   "id": "c2c9366e",
   "metadata": {},
   "outputs": [],
   "source": [
    "import os\n",
    "import numpy as np\n",
    "import pandas as pd\n",
    "import scipy\n",
    "import variables as v\n",
    "\n",
    "def load_dataset(data_type=\"ica_filtered\", test_type=\"Arithmetic\"):\n",
    "    \n",
    "    assert (test_type in v.TEST_TYPES)\n",
    "\n",
    "    assert (data_type in v.DATA_TYPES)\n",
    "\n",
    "    if data_type == \"ica_filtered\" and test_type != \"Arithmetic\":\n",
    "        print(\"Data of type\", data_type, \"does not have test type\", test_type)\n",
    "        return 0\n",
    "\n",
    "    if data_type == \"raw\":\n",
    "        dir = v.DIR_RAW\n",
    "        data_key = 'Data'\n",
    "    elif data_type == \"wt_filtered\":\n",
    "        dir = v.DIR_FILTERED\n",
    "        data_key = 'Clean_data'\n",
    "    else:\n",
    "        dir = v.DIR_ICA_FILTERED\n",
    "        data_key = 'Clean_data'\n",
    "        \n",
    "    dataset = np.empty((120, 32, 3200))\n",
    "\n",
    "    counter = 0\n",
    "    for filename in os.listdir(dir):\n",
    "        if test_type not in filename:\n",
    "            continue\n",
    "\n",
    "        f = os.path.join(dir, filename)\n",
    "        data = scipy.io.loadmat(f)[data_key]\n",
    "        dataset[counter] = data\n",
    "        counter += 1\n",
    "    return dataset\n"
   ]
  },
  {
   "cell_type": "code",
   "execution_count": 72,
   "id": "38a2b52e",
   "metadata": {},
   "outputs": [
    {
     "name": "stdout",
     "output_type": "stream",
     "text": [
      "[[[ 1.08688279e+00 -4.12227850e+00 -2.63486816e+00 ...  1.74189861e+00\n",
      "    1.83066040e+00 -1.00890745e+00]\n",
      "  [ 9.86495959e-01  2.69870395e+00  6.46661250e+00 ...  3.54250364e-01\n",
      "    1.70788851e+00  1.97271609e-01]\n",
      "  [ 1.15106560e+00 -1.83085553e+00  1.82949034e+00 ... -1.07506477e+00\n",
      "    1.41047414e+00  7.11441208e-01]\n",
      "  ...\n",
      "  [ 5.52843535e-01 -8.14841200e-01  1.64011833e+00 ... -2.84063147e+00\n",
      "   -9.49409165e-01 -4.30746934e-01]\n",
      "  [ 1.68768225e-02 -5.62574359e-01  4.70613094e-01 ... -2.30576410e+00\n",
      "    4.53188990e-01 -3.73375273e-01]\n",
      "  [ 3.11154089e-01 -5.60329806e+00 -4.54337933e+00 ...  2.43817558e+00\n",
      "    2.91171749e+00 -3.82657131e-01]]\n",
      "\n",
      " [[ 1.76047777e+00  4.48086447e+00  6.85461626e+00 ... -4.31658624e+00\n",
      "   -1.66716243e+00 -7.26351477e-01]\n",
      "  [ 7.01524626e-01  6.50764766e+00  7.50378935e+00 ...  8.89703481e-01\n",
      "   -3.65519529e-01  3.32453615e-01]\n",
      "  [-5.94912835e-01  3.77575309e+00  3.21174077e+00 ...  3.76897729e+00\n",
      "    4.14183763e-01 -8.87148307e-01]\n",
      "  ...\n",
      "  [ 7.83808015e-01  1.14524674e+01  1.29219435e+01 ... -1.15963569e-01\n",
      "    2.37219963e+00 -8.03450487e-01]\n",
      "  [ 8.86465415e-01  1.23071219e+01  1.33215656e+01 ... -9.90361523e-01\n",
      "    2.79369946e+00 -7.94212016e-01]\n",
      "  [ 5.46791670e-01  2.59494472e+00  2.36383401e+00 ... -3.77331451e+00\n",
      "   -3.66991782e+00 -1.61137542e-01]]\n",
      "\n",
      " [[-2.09182337e+00  7.44956099e+00  8.63795540e+00 ... -2.86279683e+00\n",
      "   -2.91902773e+00 -1.21591834e+00]\n",
      "  [-1.67504152e+00  9.95321296e-01  1.56585154e+00 ...  9.52348807e-01\n",
      "    1.36147986e+00 -4.94392931e-01]\n",
      "  [-2.77982572e-01 -8.90579723e-01 -1.16067349e+00 ...  2.60875128e+00\n",
      "    3.71452522e+00  6.48483691e-01]\n",
      "  ...\n",
      "  [-1.52437165e+00  4.41176662e-01  5.72331647e-01 ...  5.76558256e+00\n",
      "    5.77227767e+00 -1.34129460e+00]\n",
      "  [-2.00679108e+00  1.23779312e+00 -1.19638705e-01 ...  1.12824848e+01\n",
      "    1.01456080e+01 -2.09470627e+00]\n",
      "  [-1.97066552e+00  6.58097040e+00  6.95932829e+00 ...  7.76918836e+00\n",
      "    6.52931706e+00 -1.42965929e+00]]\n",
      "\n",
      " ...\n",
      "\n",
      " [[-8.12675828e-01  9.77246999e+00  8.32289862e+00 ... -1.03193328e+00\n",
      "    3.47284158e-01 -2.45800779e+00]\n",
      "  [ 3.14297996e-01  3.46497177e+00  4.04886279e-01 ...  2.56049267e+00\n",
      "    5.39469249e+00 -1.22866546e+00]\n",
      "  [ 8.24115299e-01  1.10909913e+00 -2.92194363e+00 ...  9.52102569e+00\n",
      "    1.21703774e+01 -1.09256387e-01]\n",
      "  ...\n",
      "  [-4.97849953e-02  5.78304479e+00  4.55630155e+00 ... -4.90646751e+00\n",
      "   -3.21850424e+00 -2.51030254e+00]\n",
      "  [-3.16367716e-04  4.81062095e+00  3.76030762e+00 ... -1.59200922e+00\n",
      "   -1.24464325e+00 -1.94961579e+00]\n",
      "  [ 1.00443530e+00  2.79416504e+00 -4.90923290e-01 ...  1.90402257e+00\n",
      "    5.17347018e+00 -1.19002036e+00]]\n",
      "\n",
      " [[-8.90698848e-01 -4.81141909e+00 -9.39138469e+00 ... -1.40248309e+01\n",
      "   -1.12582994e+01  1.10188673e-01]\n",
      "  [ 7.95848664e-01 -1.24274068e+00 -2.69463651e+00 ...  7.55993015e-02\n",
      "   -1.18583028e+00  7.37964051e-01]\n",
      "  [ 1.12660300e+00  1.39282980e+00  1.22235096e+00 ...  5.29003779e+00\n",
      "    1.68443710e+00  6.43262344e-01]\n",
      "  ...\n",
      "  [-2.06689696e-02  2.47299214e-01 -1.90686480e+00 ... -4.64247932e+00\n",
      "   -4.84203672e+00  9.16749320e-03]\n",
      "  [ 2.60709619e-01  2.05752666e+00 -6.67721576e-02 ... -1.79578627e+00\n",
      "   -3.28845637e+00  5.60240616e-02]\n",
      "  [ 1.74720446e+00  1.83633534e+00  2.17319905e+00 ...  8.08553111e+00\n",
      "    5.15460624e+00  1.26137264e+00]]\n",
      "\n",
      " [[-8.30920649e-01  5.12972604e+00 -1.07183855e+00 ...  1.72547606e+00\n",
      "    3.62451174e+00 -3.62032033e-01]\n",
      "  [-1.65746246e+00  7.86957361e+00  4.22264233e+00 ... -3.49722119e-01\n",
      "    1.70042456e+00  1.13050415e+00]\n",
      "  [-1.64765119e+00  1.01297139e+01  9.19088972e+00 ...  1.17360480e+00\n",
      "    2.99138272e+00  1.43492778e+00]\n",
      "  ...\n",
      "  [-1.15515867e+00  3.97732351e+00  5.26280547e-01 ...  2.90529039e+00\n",
      "    2.57802879e+00  4.79678468e-01]\n",
      "  [-1.05431758e+00  4.02790634e+00  3.50430502e+00 ...  3.28759972e+00\n",
      "    8.50142351e-01  9.66867121e-01]\n",
      "  [-1.72928117e+00  8.28422545e+00  7.95393664e+00 ...  4.16701345e+00\n",
      "    2.68637376e+00  1.20105979e+00]]]\n"
     ]
    }
   ],
   "source": [
    "print(load_dataset())"
   ]
  },
  {
   "cell_type": "code",
   "execution_count": 2,
   "id": "5b3e263c",
   "metadata": {},
   "outputs": [],
   "source": [
    "\n",
    "def load_labels():\n",
    "    \n",
    "    labels = pd.read_excel(v.LABELS_PATH)\n",
    "    labels = labels.rename(columns=v.COLUMNS_TO_RENAME)\n",
    "    labels = labels[1:]\n",
    "    labels = labels.astype(\"int\")\n",
    "    labels = labels > 5\n",
    "    return labels\n"
   ]
  },
  {
   "cell_type": "code",
   "execution_count": 73,
   "id": "0c5dfaf4",
   "metadata": {},
   "outputs": [
    {
     "name": "stdout",
     "output_type": "stream",
     "text": [
      "    subject_no  t1_math  t1_mirror  t1_stroop  t2_math  t2_mirror  t2_stroop  \\\n",
      "1        False     True      False      False     True      False      False   \n",
      "2        False    False      False      False    False      False      False   \n",
      "3        False    False      False      False    False      False      False   \n",
      "4        False    False      False      False    False      False      False   \n",
      "5        False     True       True       True    False      False      False   \n",
      "6         True    False      False      False    False      False      False   \n",
      "7         True    False      False      False    False      False      False   \n",
      "8         True    False      False      False     True       True      False   \n",
      "9         True    False       True      False    False      False      False   \n",
      "10        True    False      False      False    False      False      False   \n",
      "11        True     True      False      False     True      False      False   \n",
      "12        True    False       True      False    False      False      False   \n",
      "13        True    False      False      False    False      False      False   \n",
      "14        True    False      False      False     True      False      False   \n",
      "15        True     True       True      False     True      False      False   \n",
      "16        True    False      False      False    False       True      False   \n",
      "17        True     True       True       True     True       True      False   \n",
      "18        True     True      False       True    False       True      False   \n",
      "19        True    False       True       True    False      False      False   \n",
      "20        True     True       True       True     True       True      False   \n",
      "21        True     True       True       True     True       True       True   \n",
      "22        True     True       True      False     True       True       True   \n",
      "23        True    False      False      False    False      False      False   \n",
      "24        True    False      False      False    False      False      False   \n",
      "25        True    False      False      False    False      False      False   \n",
      "26        True     True       True       True     True       True       True   \n",
      "27        True    False      False      False    False      False      False   \n",
      "28        True     True       True       True     True       True      False   \n",
      "29        True     True       True       True     True       True       True   \n",
      "30        True     True       True      False     True       True      False   \n",
      "31        True     True       True      False     True       True      False   \n",
      "32        True    False      False      False    False      False      False   \n",
      "33        True    False      False      False    False      False      False   \n",
      "34        True    False      False      False    False      False      False   \n",
      "35        True     True      False      False    False      False      False   \n",
      "36        True    False      False       True    False      False      False   \n",
      "37        True     True      False      False    False      False      False   \n",
      "38        True     True      False      False    False       True      False   \n",
      "39        True     True      False      False    False      False      False   \n",
      "40        True    False      False      False    False       True      False   \n",
      "\n",
      "    t3_math  t3_mirror  t3_stroop  \n",
      "1     False       True      False  \n",
      "2      True      False      False  \n",
      "3      True       True      False  \n",
      "4      True      False      False  \n",
      "5     False       True      False  \n",
      "6      True       True      False  \n",
      "7      True      False       True  \n",
      "8     False       True      False  \n",
      "9      True      False       True  \n",
      "10     True      False      False  \n",
      "11    False       True      False  \n",
      "12     True       True      False  \n",
      "13    False      False      False  \n",
      "14     True      False      False  \n",
      "15     True      False      False  \n",
      "16     True      False       True  \n",
      "17     True       True       True  \n",
      "18     True       True       True  \n",
      "19    False      False      False  \n",
      "20     True       True       True  \n",
      "21     True       True       True  \n",
      "22     True       True      False  \n",
      "23     True      False      False  \n",
      "24    False       True      False  \n",
      "25    False       True      False  \n",
      "26    False      False       True  \n",
      "27    False      False      False  \n",
      "28     True      False      False  \n",
      "29     True       True      False  \n",
      "30     True      False      False  \n",
      "31     True      False       True  \n",
      "32     True       True      False  \n",
      "33     True      False       True  \n",
      "34    False      False      False  \n",
      "35    False       True      False  \n",
      "36    False      False      False  \n",
      "37     True      False       True  \n",
      "38    False      False      False  \n",
      "39     True      False      False  \n",
      "40    False      False      False  \n"
     ]
    }
   ],
   "source": [
    "print(load_labels())"
   ]
  },
  {
   "cell_type": "code",
   "execution_count": 3,
   "id": "ce57aaad",
   "metadata": {},
   "outputs": [],
   "source": [
    "def format_labels(labels, test_type=\"Arithmetic\", epochs=1):\n",
    "    \n",
    "    assert (test_type in v.TEST_TYPES)\n",
    "\n",
    "    formatted_labels = []\n",
    "    for trial in v.TEST_TYPE_COLUMNS[test_type]:\n",
    "        formatted_labels.append(labels[trial])\n",
    "\n",
    "    formatted_labels = pd.concat(formatted_labels).to_numpy()\n",
    "\n",
    "    formatted_labels = formatted_labels.repeat(epochs)\n",
    "\n",
    "    return formatted_labels\n"
   ]
  },
  {
   "cell_type": "code",
   "execution_count": 4,
   "id": "c8344d9d",
   "metadata": {},
   "outputs": [
    {
     "ename": "TypeError",
     "evalue": "format_labels() missing 1 required positional argument: 'labels'",
     "output_type": "error",
     "traceback": [
      "\u001b[1;31m---------------------------------------------------------------------------\u001b[0m",
      "\u001b[1;31mTypeError\u001b[0m                                 Traceback (most recent call last)",
      "Cell \u001b[1;32mIn[4], line 1\u001b[0m\n\u001b[1;32m----> 1\u001b[0m \u001b[38;5;28mprint\u001b[39m(format_labels())\n",
      "\u001b[1;31mTypeError\u001b[0m: format_labels() missing 1 required positional argument: 'labels'"
     ]
    }
   ],
   "source": [
    "print(format_labels())"
   ]
  },
  {
   "cell_type": "code",
   "execution_count": 4,
   "id": "d07bd5d7",
   "metadata": {},
   "outputs": [],
   "source": [
    "def split_data(data, sfreq):\n",
    "\n",
    "    n_trials, n_channels, n_samples = data.shape\n",
    "\n",
    "    epoched_data = np.empty((n_trials, n_samples//sfreq, n_channels, sfreq))\n",
    "    for i in range(data.shape[0]):\n",
    "        for j in range(data.shape[2]//sfreq):\n",
    "            epoched_data[i, j] = data[i, :, j*sfreq:(j+1)*sfreq]\n",
    "    return epoched_data"
   ]
  },
  {
   "cell_type": "code",
   "execution_count": 5,
   "id": "651258f1",
   "metadata": {},
   "outputs": [],
   "source": [
    "import mne_features.univariate as mne_f\n",
    "import numpy as np\n",
    "\n",
    "\n",
    "def time_series_features(data):\n",
    "\n",
    "    n_trials, n_secs, n_channels, _ = data.shape\n",
    "    features_per_channel = 3\n",
    "\n",
    "    features = np.empty([n_trials, n_secs, n_channels * features_per_channel])\n",
    "    for i, trial in enumerate(data):\n",
    "        for j, second in enumerate(trial):\n",
    "            variance = mne_f.compute_variance(second)\n",
    "            rms = mne_f.compute_rms(second)\n",
    "            ptp_amp = mne_f.compute_ptp_amp(second)\n",
    "            features[i][j] = np.concatenate([variance, rms, ptp_amp])\n",
    "    features = features.reshape(\n",
    "        [n_trials*n_secs, n_channels*features_per_channel])\n",
    "    return features\n",
    "\n",
    "# features_list = time_series_features(data)\n",
    "\n",
    "# # Print the features list\n",
    "# print(features_list)"
   ]
  },
  {
   "cell_type": "code",
   "execution_count": 6,
   "id": "8d34f7b0",
   "metadata": {},
   "outputs": [],
   "source": [
    "def freq_band_features(data, freq_bands):\n",
    "    '''\n",
    "    Computes the frequency bands delta, theta, alpha, beta and gamma using the package mne_features.\n",
    "\n",
    "    Args:\n",
    "        data (ndarray): EEG data.\n",
    "        freq_bands (ndarray): The frequency bands to compute.\n",
    "\n",
    "    Returns:\n",
    "        ndarray: Computed features.\n",
    "    '''\n",
    "    n_trials, n_secs, n_channels, sfreq = data.shape\n",
    "    features_per_channel = len(freq_bands)-1\n",
    "\n",
    "    features = np.empty([n_trials, n_secs, n_channels * features_per_channel])\n",
    "    for i, trial in enumerate(data):\n",
    "        for j, second in enumerate(trial):\n",
    "            psd = mne_f.compute_pow_freq_bands(\n",
    "                sfreq, second, freq_bands=freq_bands)\n",
    "            features[i][j] = psd\n",
    "    features = features.reshape(\n",
    "        [n_trials*n_secs, n_channels*features_per_channel])\n",
    "    return features"
   ]
  },
  {
   "cell_type": "code",
   "execution_count": 7,
   "id": "cf2bb222",
   "metadata": {},
   "outputs": [],
   "source": [
    "def hjorth_features(data):\n",
    "    '''\n",
    "    Computes the features Hjorth mobility (spectral) and Hjorth complexity (spectral) using the package mne_features.\n",
    "\n",
    "    Args:\n",
    "        data (ndarray): EEG data.\n",
    "\n",
    "    Returns:\n",
    "        ndarray: Computed features.\n",
    "    '''\n",
    "    n_trials, n_secs, n_channels, sfreq = data.shape\n",
    "    features_per_channel = 2\n",
    "\n",
    "    features = np.empty([n_trials, n_secs, n_channels * features_per_channel])\n",
    "    for i, trial in enumerate(data):\n",
    "        for j, second in enumerate(trial):\n",
    "            mobility_spect = mne_f.compute_hjorth_mobility_spect(sfreq, second)\n",
    "            complexity_spect = mne_f.compute_hjorth_complexity_spect(\n",
    "                sfreq, second)\n",
    "            features[i][j] = np.concatenate([mobility_spect, complexity_spect])\n",
    "    features = features.reshape(\n",
    "        [n_trials*n_secs, n_channels*features_per_channel])\n",
    "    return features"
   ]
  },
  {
   "cell_type": "code",
   "execution_count": 8,
   "id": "516f0dfe",
   "metadata": {},
   "outputs": [],
   "source": [
    "def fractal_features(data):\n",
    "    '''\n",
    "    Computes the Higuchi Fractal Dimension and Katz Fractal Dimension using the package mne_features.\n",
    "\n",
    "    Args:\n",
    "        data (ndarray): EEG data.\n",
    "\n",
    "    Returns:\n",
    "        ndarray: Computed features.\n",
    "\n",
    "    '''\n",
    "    n_trials, n_secs, n_channels, _ = data.shape\n",
    "    features_per_channel = 2\n",
    "\n",
    "    features = np.empty([n_trials, n_secs, n_channels * features_per_channel])\n",
    "    for i, trial in enumerate(data):\n",
    "        for j, second in enumerate(trial):\n",
    "            higuchi = mne_f.compute_higuchi_fd(second)\n",
    "            katz = mne_f.compute_katz_fd(second)\n",
    "            features[i][j] = np.concatenate([higuchi, katz])\n",
    "    features = features.reshape(\n",
    "        [n_trials*n_secs, n_channels*features_per_channel])\n",
    "    return features"
   ]
  },
  {
   "cell_type": "code",
   "execution_count": 9,
   "id": "e5291d5d",
   "metadata": {},
   "outputs": [],
   "source": [
    "def entropy_features(data):\n",
    "    '''\n",
    "    Computes the features Approximate Entropy, Sample Entropy, Spectral Entropy and SVD entropy using the package mne_features.\n",
    "\n",
    "    Args:\n",
    "        data (ndarray): EEG data.\n",
    "\n",
    "    Returns:\n",
    "        ndarray: Computed features.\n",
    "\n",
    "    '''\n",
    "    n_trials, n_secs, n_channels, sfreq = data.shape\n",
    "    features_per_channel = 4\n",
    "\n",
    "    features = np.empty([n_trials, n_secs, n_channels * features_per_channel])\n",
    "    for i, trial in enumerate(data):\n",
    "        for j, second in enumerate(trial):\n",
    "            app_entropy = mne_f.compute_app_entropy(second)\n",
    "            samp_entropy = mne_f.compute_samp_entropy(second)\n",
    "            spect_entropy = mne_f.compute_spect_entropy(sfreq, second)\n",
    "            svd_entropy = mne_f.compute_svd_entropy(second)\n",
    "            features[i][j] = np.concatenate(\n",
    "                [app_entropy, samp_entropy, spect_entropy, svd_entropy])\n",
    "    features = features.reshape(\n",
    "        [n_trials*n_secs, n_channels*features_per_channel])\n",
    "    return features"
   ]
  },
  {
   "cell_type": "code",
   "execution_count": 10,
   "id": "7041107d",
   "metadata": {},
   "outputs": [
    {
     "name": "stdout",
     "output_type": "stream",
     "text": [
      "WARNING:tensorflow:From C:\\Anaconda\\Lib\\site-packages\\keras\\src\\losses.py:2976: The name tf.losses.sparse_softmax_cross_entropy is deprecated. Please use tf.compat.v1.losses.sparse_softmax_cross_entropy instead.\n",
      "\n"
     ]
    }
   ],
   "source": [
    "import numpy as np\n",
    "\n",
    "from sklearn.model_selection import train_test_split, GridSearchCV, PredefinedSplit\n",
    "from sklearn.preprocessing import StandardScaler, MinMaxScaler\n",
    "from sklearn import metrics\n",
    "from sklearn.neighbors import KNeighborsClassifier\n",
    "from sklearn.svm import SVC\n",
    "\n",
    "from keras import models, Input\n",
    "from keras import optimizers as opt\n",
    "from keras import backend as K\n",
    "from keras.layers import Dense\n",
    "from keras_tuner.tuners import RandomSearch\n",
    "from tensorflow.keras.utils import to_categorical"
   ]
  },
  {
   "cell_type": "code",
   "execution_count": null,
   "id": "0ae35cd7",
   "metadata": {
    "scrolled": false
   },
   "outputs": [],
   "source": [
    "pip install keras"
   ]
  },
  {
   "cell_type": "code",
   "execution_count": null,
   "id": "9c729755",
   "metadata": {},
   "outputs": [],
   "source": [
    "pip install tensorflow"
   ]
  },
  {
   "cell_type": "code",
   "execution_count": 11,
   "id": "e3535a82",
   "metadata": {},
   "outputs": [],
   "source": [
    "# from dataset import load_dataset, load_labels, split_data, format_labels\n",
    "# from features import time_series_features, fractal_features, entropy_features, hjorth_features, freq_band_features\n",
    "import variables as v"
   ]
  },
  {
   "cell_type": "code",
   "execution_count": 12,
   "id": "530f6225",
   "metadata": {},
   "outputs": [],
   "source": [
    "data_type = \"ica_filtered\"\n",
    "test_type = \"Arithmetic\""
   ]
  },
  {
   "cell_type": "code",
   "execution_count": 13,
   "id": "9bdebf69",
   "metadata": {},
   "outputs": [],
   "source": [
    "dataset_ = load_dataset(data_type=data_type, test_type=test_type)\n",
    "dataset = split_data(dataset_, v.SFREQ)"
   ]
  },
  {
   "cell_type": "code",
   "execution_count": 14,
   "id": "ee703988",
   "metadata": {},
   "outputs": [
    {
     "name": "stdout",
     "output_type": "stream",
     "text": [
      "[ True  True  True ... False False False]\n"
     ]
    }
   ],
   "source": [
    "label_ = load_labels()\n",
    "label = format_labels(label_, test_type=test_type, epochs=dataset.shape[1])\n",
    "print(label)"
   ]
  },
  {
   "cell_type": "code",
   "execution_count": 85,
   "id": "19ddb26e",
   "metadata": {},
   "outputs": [],
   "source": [
    "# # import numpy as np\n",
    "# # plt.pie(np.array(label))\n",
    "# c0 = 0 \n",
    "# c1=0\n",
    "# for i in range(len(label)) :\n",
    "#     if label[i] == True :\n",
    "#         c1 = c1 + 1\n",
    "#     else :\n",
    "#         c0 = c0+1\n",
    "    "
   ]
  },
  {
   "cell_type": "code",
   "execution_count": 87,
   "id": "ccaa0c31",
   "metadata": {},
   "outputs": [
    {
     "ename": "SyntaxError",
     "evalue": "invalid syntax (2025615811.py, line 2)",
     "output_type": "error",
     "traceback": [
      "\u001b[1;36m  Cell \u001b[1;32mIn[87], line 2\u001b[1;36m\u001b[0m\n\u001b[1;33m    means data is balance\u001b[0m\n\u001b[1;37m          ^\u001b[0m\n\u001b[1;31mSyntaxError\u001b[0m\u001b[1;31m:\u001b[0m invalid syntax\n"
     ]
    }
   ],
   "source": [
    "print(c0,c1)   \n",
    "# means data is balance\n",
    "# f1_score is not much relevant"
   ]
  },
  {
   "cell_type": "code",
   "execution_count": null,
   "id": "d2af795a",
   "metadata": {},
   "outputs": [],
   "source": [
    "pip install xlrd"
   ]
  },
  {
   "cell_type": "code",
   "execution_count": null,
   "id": "bc49de31",
   "metadata": {},
   "outputs": [],
   "source": [
    "!pip install keras-tuner --upgrade"
   ]
  },
  {
   "cell_type": "code",
   "execution_count": 134,
   "id": "d106180a",
   "metadata": {},
   "outputs": [],
   "source": [
    "# features = time_series_features(dataset)\n",
    "# freq_bands = np.array([1, 4, 8, 12, 30, 50])\n",
    "# features = freq_band_features(dataset, freq_bands)\n",
    "# features = hjorth_features(dataset)\n",
    "# features = entropy_features(dataset)\n",
    "features = fractal_features(dataset)\n"
   ]
  },
  {
   "cell_type": "code",
   "execution_count": 135,
   "id": "bea13ce6",
   "metadata": {},
   "outputs": [
    {
     "name": "stdout",
     "output_type": "stream",
     "text": [
      "[[1.46479541 1.47439684 1.5950604  ... 2.43207342 2.34598928 2.23888161]\n",
      " [1.37245693 1.5695702  1.49116233 ... 2.11801299 2.13759479 2.05629195]\n",
      " [1.30527958 1.33673023 1.39111425 ... 2.27585907 2.37447209 2.22149924]\n",
      " ...\n",
      " [1.53353794 1.53879684 1.55961493 ... 2.15046335 1.7276305  1.85910251]\n",
      " [1.57608601 1.56631244 1.49570705 ... 1.76653921 1.6933852  1.94194381]\n",
      " [1.54391507 1.53507259 1.50526977 ... 1.83881158 2.11339111 1.94677029]]\n"
     ]
    }
   ],
   "source": [
    "data = features\n",
    "print(data)\n"
   ]
  },
  {
   "cell_type": "code",
   "execution_count": 17,
   "id": "25935330",
   "metadata": {},
   "outputs": [],
   "source": [
    "from sklearn.model_selection import train_test_split\n",
    "from sklearn.preprocessing import MinMaxScaler\n",
    "from sklearn.tree import DecisionTreeClassifier\n",
    "from sklearn import metrics\n"
   ]
  },
  {
   "cell_type": "code",
   "execution_count": 136,
   "id": "b1335648",
   "metadata": {},
   "outputs": [],
   "source": [
    "x, x_test, y, y_test = train_test_split(\n",
    "    data, label, test_size=0.2, random_state=1)\n",
    "\n",
    "x_train, x_val, y_train, y_val = train_test_split(\n",
    "    x, y, test_size=0.25, random_state=1)\n"
   ]
  },
  {
   "cell_type": "code",
   "execution_count": 137,
   "id": "fba5462e",
   "metadata": {},
   "outputs": [],
   "source": [
    "scaler = MinMaxScaler()\n",
    "scaler.fit(x_train)\n",
    "x_train = scaler.transform(x_train)\n",
    "x_val = scaler.transform(x_val)\n",
    "x_test = scaler.transform(x_test)\n"
   ]
  },
  {
   "cell_type": "code",
   "execution_count": 105,
   "id": "30e2c7ed",
   "metadata": {},
   "outputs": [
    {
     "ename": "ValueError",
     "evalue": "X has 64 features, but DecisionTreeClassifier is expecting 160 features as input.",
     "output_type": "error",
     "traceback": [
      "\u001b[1;31m---------------------------------------------------------------------------\u001b[0m",
      "\u001b[1;31mValueError\u001b[0m                                Traceback (most recent call last)",
      "Cell \u001b[1;32mIn[105], line 2\u001b[0m\n\u001b[0;32m      1\u001b[0m \u001b[38;5;66;03m# Predict on the validation set\u001b[39;00m\n\u001b[1;32m----> 2\u001b[0m y_val_pred \u001b[38;5;241m=\u001b[39m dt_clf\u001b[38;5;241m.\u001b[39mpredict(x_val)\n\u001b[0;32m      4\u001b[0m \u001b[38;5;66;03m# Predict on the test set\u001b[39;00m\n\u001b[0;32m      5\u001b[0m y_test_pred \u001b[38;5;241m=\u001b[39m dt_clf\u001b[38;5;241m.\u001b[39mpredict(x_test)\n",
      "File \u001b[1;32mC:\\Anaconda\\Lib\\site-packages\\sklearn\\tree\\_classes.py:500\u001b[0m, in \u001b[0;36mBaseDecisionTree.predict\u001b[1;34m(self, X, check_input)\u001b[0m\n\u001b[0;32m    477\u001b[0m \u001b[38;5;250m\u001b[39m\u001b[38;5;124;03m\"\"\"Predict class or regression value for X.\u001b[39;00m\n\u001b[0;32m    478\u001b[0m \n\u001b[0;32m    479\u001b[0m \u001b[38;5;124;03mFor a classification model, the predicted class for each sample in X is\u001b[39;00m\n\u001b[1;32m   (...)\u001b[0m\n\u001b[0;32m    497\u001b[0m \u001b[38;5;124;03m    The predicted classes, or the predict values.\u001b[39;00m\n\u001b[0;32m    498\u001b[0m \u001b[38;5;124;03m\"\"\"\u001b[39;00m\n\u001b[0;32m    499\u001b[0m check_is_fitted(\u001b[38;5;28mself\u001b[39m)\n\u001b[1;32m--> 500\u001b[0m X \u001b[38;5;241m=\u001b[39m \u001b[38;5;28mself\u001b[39m\u001b[38;5;241m.\u001b[39m_validate_X_predict(X, check_input)\n\u001b[0;32m    501\u001b[0m proba \u001b[38;5;241m=\u001b[39m \u001b[38;5;28mself\u001b[39m\u001b[38;5;241m.\u001b[39mtree_\u001b[38;5;241m.\u001b[39mpredict(X)\n\u001b[0;32m    502\u001b[0m n_samples \u001b[38;5;241m=\u001b[39m X\u001b[38;5;241m.\u001b[39mshape[\u001b[38;5;241m0\u001b[39m]\n",
      "File \u001b[1;32mC:\\Anaconda\\Lib\\site-packages\\sklearn\\tree\\_classes.py:460\u001b[0m, in \u001b[0;36mBaseDecisionTree._validate_X_predict\u001b[1;34m(self, X, check_input)\u001b[0m\n\u001b[0;32m    458\u001b[0m \u001b[38;5;28;01melse\u001b[39;00m:\n\u001b[0;32m    459\u001b[0m     force_all_finite \u001b[38;5;241m=\u001b[39m \u001b[38;5;28;01mTrue\u001b[39;00m\n\u001b[1;32m--> 460\u001b[0m X \u001b[38;5;241m=\u001b[39m \u001b[38;5;28mself\u001b[39m\u001b[38;5;241m.\u001b[39m_validate_data(\n\u001b[0;32m    461\u001b[0m     X,\n\u001b[0;32m    462\u001b[0m     dtype\u001b[38;5;241m=\u001b[39mDTYPE,\n\u001b[0;32m    463\u001b[0m     accept_sparse\u001b[38;5;241m=\u001b[39m\u001b[38;5;124m\"\u001b[39m\u001b[38;5;124mcsr\u001b[39m\u001b[38;5;124m\"\u001b[39m,\n\u001b[0;32m    464\u001b[0m     reset\u001b[38;5;241m=\u001b[39m\u001b[38;5;28;01mFalse\u001b[39;00m,\n\u001b[0;32m    465\u001b[0m     force_all_finite\u001b[38;5;241m=\u001b[39mforce_all_finite,\n\u001b[0;32m    466\u001b[0m )\n\u001b[0;32m    467\u001b[0m \u001b[38;5;28;01mif\u001b[39;00m issparse(X) \u001b[38;5;129;01mand\u001b[39;00m (\n\u001b[0;32m    468\u001b[0m     X\u001b[38;5;241m.\u001b[39mindices\u001b[38;5;241m.\u001b[39mdtype \u001b[38;5;241m!=\u001b[39m np\u001b[38;5;241m.\u001b[39mintc \u001b[38;5;129;01mor\u001b[39;00m X\u001b[38;5;241m.\u001b[39mindptr\u001b[38;5;241m.\u001b[39mdtype \u001b[38;5;241m!=\u001b[39m np\u001b[38;5;241m.\u001b[39mintc\n\u001b[0;32m    469\u001b[0m ):\n\u001b[0;32m    470\u001b[0m     \u001b[38;5;28;01mraise\u001b[39;00m \u001b[38;5;167;01mValueError\u001b[39;00m(\u001b[38;5;124m\"\u001b[39m\u001b[38;5;124mNo support for np.int64 index based sparse matrices\u001b[39m\u001b[38;5;124m\"\u001b[39m)\n",
      "File \u001b[1;32mC:\\Anaconda\\Lib\\site-packages\\sklearn\\base.py:625\u001b[0m, in \u001b[0;36mBaseEstimator._validate_data\u001b[1;34m(self, X, y, reset, validate_separately, cast_to_ndarray, **check_params)\u001b[0m\n\u001b[0;32m    622\u001b[0m     out \u001b[38;5;241m=\u001b[39m X, y\n\u001b[0;32m    624\u001b[0m \u001b[38;5;28;01mif\u001b[39;00m \u001b[38;5;129;01mnot\u001b[39;00m no_val_X \u001b[38;5;129;01mand\u001b[39;00m check_params\u001b[38;5;241m.\u001b[39mget(\u001b[38;5;124m\"\u001b[39m\u001b[38;5;124mensure_2d\u001b[39m\u001b[38;5;124m\"\u001b[39m, \u001b[38;5;28;01mTrue\u001b[39;00m):\n\u001b[1;32m--> 625\u001b[0m     \u001b[38;5;28mself\u001b[39m\u001b[38;5;241m.\u001b[39m_check_n_features(X, reset\u001b[38;5;241m=\u001b[39mreset)\n\u001b[0;32m    627\u001b[0m \u001b[38;5;28;01mreturn\u001b[39;00m out\n",
      "File \u001b[1;32mC:\\Anaconda\\Lib\\site-packages\\sklearn\\base.py:414\u001b[0m, in \u001b[0;36mBaseEstimator._check_n_features\u001b[1;34m(self, X, reset)\u001b[0m\n\u001b[0;32m    411\u001b[0m     \u001b[38;5;28;01mreturn\u001b[39;00m\n\u001b[0;32m    413\u001b[0m \u001b[38;5;28;01mif\u001b[39;00m n_features \u001b[38;5;241m!=\u001b[39m \u001b[38;5;28mself\u001b[39m\u001b[38;5;241m.\u001b[39mn_features_in_:\n\u001b[1;32m--> 414\u001b[0m     \u001b[38;5;28;01mraise\u001b[39;00m \u001b[38;5;167;01mValueError\u001b[39;00m(\n\u001b[0;32m    415\u001b[0m         \u001b[38;5;124mf\u001b[39m\u001b[38;5;124m\"\u001b[39m\u001b[38;5;124mX has \u001b[39m\u001b[38;5;132;01m{\u001b[39;00mn_features\u001b[38;5;132;01m}\u001b[39;00m\u001b[38;5;124m features, but \u001b[39m\u001b[38;5;132;01m{\u001b[39;00m\u001b[38;5;28mself\u001b[39m\u001b[38;5;241m.\u001b[39m\u001b[38;5;18m__class__\u001b[39m\u001b[38;5;241m.\u001b[39m\u001b[38;5;18m__name__\u001b[39m\u001b[38;5;132;01m}\u001b[39;00m\u001b[38;5;124m \u001b[39m\u001b[38;5;124m\"\u001b[39m\n\u001b[0;32m    416\u001b[0m         \u001b[38;5;124mf\u001b[39m\u001b[38;5;124m\"\u001b[39m\u001b[38;5;124mis expecting \u001b[39m\u001b[38;5;132;01m{\u001b[39;00m\u001b[38;5;28mself\u001b[39m\u001b[38;5;241m.\u001b[39mn_features_in_\u001b[38;5;132;01m}\u001b[39;00m\u001b[38;5;124m features as input.\u001b[39m\u001b[38;5;124m\"\u001b[39m\n\u001b[0;32m    417\u001b[0m     )\n",
      "\u001b[1;31mValueError\u001b[0m: X has 64 features, but DecisionTreeClassifier is expecting 160 features as input."
     ]
    }
   ],
   "source": [
    "# Predict on the validation set\n",
    "y_val_pred = dt_clf.predict(x_val)\n",
    "\n",
    "# Predict on the test set\n",
    "y_test_pred = dt_clf.predict(x_test)\n"
   ]
  },
  {
   "cell_type": "code",
   "execution_count": 51,
   "id": "dfc54dc7",
   "metadata": {},
   "outputs": [
    {
     "data": {
      "text/plain": [
       "[<matplotlib.lines.Line2D at 0x25594852190>]"
      ]
     },
     "execution_count": 51,
     "metadata": {},
     "output_type": "execute_result"
    },
    {
     "data": {
      "image/png": "[encoded data removed]",
      "text/plain": [
       "<Figure size 640x480 with 1 Axes>"
      ]
     },
     "metadata": {},
     "output_type": "display_data"
    }
   ],
   "source": [
    "plt.plot(acc)"
   ]
  },
  {
   "cell_type": "code",
   "execution_count": 53,
   "id": "9445820c",
   "metadata": {},
   "outputs": [
    {
     "data": {
      "text/plain": [
       "[<matplotlib.lines.Line2D at 0x255949a6cd0>]"
      ]
     },
     "execution_count": 53,
     "metadata": {},
     "output_type": "execute_result"
    },
    {
     "data": {
      "image/png": "[encoded data removed]",
      "text/plain": [
       "<Figure size 640x480 with 1 Axes>"
      ]
     },
     "metadata": {},
     "output_type": "display_data"
    }
   ],
   "source": [
    "plt.plot(f1_list)"
   ]
  },
  {
   "cell_type": "code",
   "execution_count": null,
   "id": "4cd3bdf1",
   "metadata": {},
   "outputs": [],
   "source": []
  },
  {
   "cell_type": "code",
   "execution_count": 138,
   "id": "3e71dba9",
   "metadata": {},
   "outputs": [
    {
     "name": "stdout",
     "output_type": "stream",
     "text": [
      "Accuracy: 57.67%\n",
      "F1 Score: 0.50\n",
      "Accuracy: 57.67%\n",
      "F1 Score: 0.50\n",
      "Accuracy: 57.67%\n",
      "F1 Score: 0.46\n",
      "Accuracy: 53.83%\n",
      "F1 Score: 0.53\n",
      "Accuracy: 52.50%\n",
      "F1 Score: 0.54\n",
      "Accuracy: 54.00%\n",
      "F1 Score: 0.55\n",
      "Accuracy: 55.83%\n",
      "F1 Score: 0.53\n",
      "Accuracy: 53.83%\n",
      "F1 Score: 0.53\n",
      "Accuracy: 53.33%\n",
      "F1 Score: 0.50\n",
      "Accuracy: 55.50%\n",
      "F1 Score: 0.53\n",
      "Accuracy: 55.83%\n",
      "F1 Score: 0.53\n",
      "Accuracy: 55.67%\n",
      "F1 Score: 0.53\n",
      "Accuracy: 56.00%\n",
      "F1 Score: 0.53\n",
      "Accuracy: 55.67%\n",
      "F1 Score: 0.53\n",
      "Accuracy: 53.83%\n",
      "F1 Score: 0.51\n",
      "Accuracy: 55.50%\n",
      "F1 Score: 0.53\n",
      "Accuracy: 54.50%\n",
      "F1 Score: 0.52\n",
      "Accuracy: 54.33%\n",
      "F1 Score: 0.51\n",
      "Accuracy: 54.67%\n",
      "F1 Score: 0.51\n",
      "Accuracy: 54.67%\n",
      "F1 Score: 0.51\n",
      "Accuracy: 54.67%\n",
      "F1 Score: 0.51\n",
      "Accuracy: 54.67%\n",
      "F1 Score: 0.51\n",
      "Accuracy: 54.67%\n",
      "F1 Score: 0.51\n",
      "Accuracy: 54.67%\n",
      "F1 Score: 0.51\n",
      "Accuracy: 54.67%\n",
      "F1 Score: 0.51\n",
      "Accuracy: 54.67%\n",
      "F1 Score: 0.51\n",
      "Accuracy: 54.67%\n",
      "F1 Score: 0.51\n",
      "Accuracy: 54.67%\n",
      "F1 Score: 0.51\n",
      "Accuracy: 54.67%\n",
      "F1 Score: 0.51\n",
      "Accuracy: 54.67%\n",
      "F1 Score: 0.51\n",
      "Accuracy: 54.67%\n",
      "F1 Score: 0.51\n",
      "Accuracy: 54.67%\n",
      "F1 Score: 0.51\n",
      "Accuracy: 54.67%\n",
      "F1 Score: 0.51\n",
      "Accuracy: 54.67%\n",
      "F1 Score: 0.51\n",
      "Accuracy: 54.67%\n",
      "F1 Score: 0.51\n",
      "Accuracy: 54.67%\n",
      "F1 Score: 0.51\n",
      "Accuracy: 54.67%\n",
      "F1 Score: 0.51\n",
      "Accuracy: 54.67%\n",
      "F1 Score: 0.51\n",
      "Accuracy: 54.67%\n",
      "F1 Score: 0.51\n",
      "Accuracy: 54.67%\n",
      "F1 Score: 0.51\n",
      "Accuracy: 54.67%\n",
      "F1 Score: 0.51\n",
      "Accuracy: 54.67%\n",
      "F1 Score: 0.51\n",
      "Accuracy: 54.67%\n",
      "F1 Score: 0.51\n",
      "Accuracy: 54.67%\n",
      "F1 Score: 0.51\n",
      "Accuracy: 54.67%\n",
      "F1 Score: 0.51\n",
      "Accuracy: 54.67%\n",
      "F1 Score: 0.51\n",
      "Accuracy: 54.67%\n",
      "F1 Score: 0.51\n",
      "Accuracy: 54.67%\n",
      "F1 Score: 0.51\n",
      "Accuracy: 54.67%\n",
      "F1 Score: 0.51\n",
      "Accuracy: 54.67%\n",
      "F1 Score: 0.51\n",
      "Accuracy: 54.67%\n",
      "F1 Score: 0.51\n",
      "Accuracy: 54.67%\n",
      "F1 Score: 0.51\n",
      "Accuracy: 54.67%\n",
      "F1 Score: 0.51\n",
      "Accuracy: 54.67%\n",
      "F1 Score: 0.51\n",
      "Accuracy: 54.67%\n",
      "F1 Score: 0.51\n",
      "Accuracy: 54.67%\n",
      "F1 Score: 0.51\n",
      "Accuracy: 54.67%\n",
      "F1 Score: 0.51\n",
      "Accuracy: 54.67%\n",
      "F1 Score: 0.51\n",
      "Accuracy: 54.67%\n",
      "F1 Score: 0.51\n",
      "Accuracy: 54.67%\n",
      "F1 Score: 0.51\n",
      "Accuracy: 54.67%\n",
      "F1 Score: 0.51\n",
      "Accuracy: 54.67%\n",
      "F1 Score: 0.51\n",
      "Accuracy: 54.67%\n",
      "F1 Score: 0.51\n",
      "Accuracy: 54.67%\n",
      "F1 Score: 0.51\n",
      "Accuracy: 54.67%\n",
      "F1 Score: 0.51\n",
      "Accuracy: 54.67%\n",
      "F1 Score: 0.51\n",
      "Accuracy: 54.67%\n",
      "F1 Score: 0.51\n",
      "Accuracy: 54.67%\n",
      "F1 Score: 0.51\n",
      "Accuracy: 54.67%\n",
      "F1 Score: 0.51\n",
      "Accuracy: 54.67%\n",
      "F1 Score: 0.51\n",
      "Accuracy: 54.67%\n",
      "F1 Score: 0.51\n",
      "Accuracy: 54.67%\n",
      "F1 Score: 0.51\n",
      "Accuracy: 54.67%\n",
      "F1 Score: 0.51\n",
      "Accuracy: 54.67%\n",
      "F1 Score: 0.51\n",
      "Accuracy: 54.67%\n",
      "F1 Score: 0.51\n",
      "Accuracy: 54.67%\n",
      "F1 Score: 0.51\n",
      "Accuracy: 54.67%\n",
      "F1 Score: 0.51\n",
      "Accuracy: 54.67%\n",
      "F1 Score: 0.51\n",
      "Accuracy: 54.67%\n",
      "F1 Score: 0.51\n",
      "Accuracy: 54.67%\n",
      "F1 Score: 0.51\n",
      "Accuracy: 54.67%\n",
      "F1 Score: 0.51\n",
      "Accuracy: 54.67%\n",
      "F1 Score: 0.51\n",
      "Accuracy: 54.67%\n",
      "F1 Score: 0.51\n",
      "Accuracy: 54.67%\n",
      "F1 Score: 0.51\n",
      "Accuracy: 54.67%\n",
      "F1 Score: 0.51\n",
      "Accuracy: 54.67%\n",
      "F1 Score: 0.51\n",
      "Accuracy: 54.67%\n",
      "F1 Score: 0.51\n",
      "Accuracy: 54.67%\n",
      "F1 Score: 0.51\n",
      "Accuracy: 54.67%\n",
      "F1 Score: 0.51\n",
      "Accuracy: 54.67%\n",
      "F1 Score: 0.51\n",
      "Accuracy: 54.67%\n",
      "F1 Score: 0.51\n",
      "Accuracy: 54.67%\n",
      "F1 Score: 0.51\n",
      "Accuracy: 54.67%\n",
      "F1 Score: 0.51\n",
      "Accuracy: 54.67%\n",
      "F1 Score: 0.51\n",
      "Accuracy: 54.67%\n",
      "F1 Score: 0.51\n",
      "Accuracy: 54.67%\n",
      "F1 Score: 0.51\n",
      "Accuracy: 54.67%\n",
      "F1 Score: 0.51\n",
      "Accuracy: 54.67%\n",
      "F1 Score: 0.51\n",
      "Accuracy: 54.67%\n",
      "F1 Score: 0.51\n"
     ]
    }
   ],
   "source": [
    "# Initialize Decision Tree Classifier\n",
    "acc=[]\n",
    "f1_list=[]\n",
    "for i in range(1,100) :\n",
    "    dt_clf = DecisionTreeClassifier(random_state=1, max_depth = i)\n",
    "\n",
    "# Train the classifier on the training data\n",
    "    dt_clf.fit(x_train, y_train)\n",
    "    \n",
    "    preds = dt_clf.predict(x_val)\n",
    "    probs = dt_clf.predict_proba(x_val)\n",
    "    accuracy = accuracy_score(y_val, preds)\n",
    "    print(\"Accuracy: {:.2f}%\".format(accuracy * 100))\n",
    "    acc.append(accuracy)\n",
    "    f1 = f1_score(y_val,preds)\n",
    "    f1_list.append(f1)\n",
    "    print(\"F1 Score: {:.2f}\".format(f1))\n"
   ]
  },
  {
   "cell_type": "code",
   "execution_count": 124,
   "id": "913e5296",
   "metadata": {},
   "outputs": [
    {
     "name": "stdout",
     "output_type": "stream",
     "text": [
      "Test Set Accuracy: 53.17%\n"
     ]
    }
   ],
   "source": [
    "# Predict on the validation set\n",
    "y_val_pred = dt_clf.predict(x_val)\n",
    "\n",
    "# Predict on the test set\n",
    "y_test_pred = dt_clf.predict(x_test)\n",
    "\n",
    "# Calculate accuracy on the test set\n",
    "test_accuracy = metrics.accuracy_score(y_test, y_test_pred)\n",
    "print(f\"Test Set Accuracy: {test_accuracy * 100:.2f}%\")\n"
   ]
  },
  {
   "cell_type": "code",
   "execution_count": 41,
   "id": "ee22ab82",
   "metadata": {},
   "outputs": [
    {
     "ename": "AttributeError",
     "evalue": "'KNeighborsClassifier' object has no attribute 'KNeighborsClassifier'",
     "output_type": "error",
     "traceback": [
      "\u001b[1;31m---------------------------------------------------------------------------\u001b[0m",
      "\u001b[1;31mAttributeError\u001b[0m                            Traceback (most recent call last)",
      "Cell \u001b[1;32mIn[41], line 13\u001b[0m\n\u001b[0;32m      9\u001b[0m x_val \u001b[38;5;241m=\u001b[39m scaler\u001b[38;5;241m.\u001b[39mtransform(x_val)\n\u001b[0;32m     10\u001b[0m x_test \u001b[38;5;241m=\u001b[39m scaler\u001b[38;5;241m.\u001b[39mtransform(x_test)\n\u001b[1;32m---> 13\u001b[0m knn_clf\u001b[38;5;241m.\u001b[39mKNeighborsClassifier(n_neighbors\u001b[38;5;241m=\u001b[39mi)\n\u001b[0;32m     14\u001b[0m knn_clf\u001b[38;5;241m.\u001b[39mfit(x, y)\n\u001b[0;32m     15\u001b[0m y_pred \u001b[38;5;241m=\u001b[39m knn_clf\u001b[38;5;241m.\u001b[39mpredict(x_test)\n",
      "\u001b[1;31mAttributeError\u001b[0m: 'KNeighborsClassifier' object has no attribute 'KNeighborsClassifier'"
     ]
    }
   ],
   "source": [
    "x, x_test, y, y_test = train_test_split(\n",
    "    data, label, test_size=0.2, random_state=1)\n",
    "x_train, x_val, y_train, y_val = train_test_split(\n",
    "    x, y, test_size=0.25, random_state=1)\n",
    "scaler = MinMaxScaler()\n",
    "scaler.fit(x_train)\n",
    "x = scaler.transform(x)\n",
    "x_train = scaler.transform(x_train)\n",
    "x_val = scaler.transform(x_val)\n",
    "x_test = scaler.transform(x_test)\n",
    "\n",
    "\n",
    "knn_clf.KNeighborsClassifier(n_neighbors=i)\n",
    "knn_clf.fit(x, y)\n",
    "y_pred = knn_clf.predict(x_test)\n",
    "y_true = y_test\n",
    "print(metrics.classification_report(y_true, y_pred))\n",
    "print(metrics.confusion_matrix(y_true, y_pred))"
   ]
  },
  {
   "cell_type": "code",
   "execution_count": 139,
   "id": "b0c34868",
   "metadata": {},
   "outputs": [
    {
     "name": "stdout",
     "output_type": "stream",
     "text": [
      "Accuracy: 53.00%\n",
      "F1 Score: 0.49\n",
      "Accuracy: 54.17%\n",
      "F1 Score: 0.35\n",
      "Accuracy: 54.50%\n",
      "F1 Score: 0.49\n",
      "Accuracy: 57.00%\n",
      "F1 Score: 0.40\n",
      "Accuracy: 57.67%\n",
      "F1 Score: 0.52\n",
      "Accuracy: 59.00%\n",
      "F1 Score: 0.45\n",
      "Accuracy: 55.50%\n",
      "F1 Score: 0.49\n",
      "Accuracy: 58.17%\n",
      "F1 Score: 0.43\n",
      "Accuracy: 56.50%\n",
      "F1 Score: 0.50\n",
      "Accuracy: 55.17%\n",
      "F1 Score: 0.40\n",
      "Accuracy: 58.00%\n",
      "F1 Score: 0.50\n",
      "Accuracy: 57.50%\n",
      "F1 Score: 0.44\n",
      "Accuracy: 56.50%\n",
      "F1 Score: 0.48\n",
      "Accuracy: 56.50%\n",
      "F1 Score: 0.42\n",
      "Accuracy: 57.17%\n",
      "F1 Score: 0.48\n",
      "Accuracy: 57.83%\n",
      "F1 Score: 0.43\n",
      "Accuracy: 59.00%\n",
      "F1 Score: 0.49\n",
      "Accuracy: 59.67%\n",
      "F1 Score: 0.46\n",
      "Accuracy: 58.33%\n",
      "F1 Score: 0.50\n",
      "Accuracy: 58.17%\n",
      "F1 Score: 0.44\n",
      "Accuracy: 56.83%\n",
      "F1 Score: 0.47\n",
      "Accuracy: 58.67%\n",
      "F1 Score: 0.44\n",
      "Accuracy: 58.83%\n",
      "F1 Score: 0.49\n",
      "Accuracy: 58.50%\n",
      "F1 Score: 0.42\n",
      "Accuracy: 58.00%\n",
      "F1 Score: 0.47\n",
      "Accuracy: 58.17%\n",
      "F1 Score: 0.43\n",
      "Accuracy: 58.83%\n",
      "F1 Score: 0.49\n",
      "Accuracy: 58.83%\n",
      "F1 Score: 0.43\n",
      "Accuracy: 58.67%\n",
      "F1 Score: 0.47\n",
      "Accuracy: 58.17%\n",
      "F1 Score: 0.43\n",
      "Accuracy: 56.00%\n",
      "F1 Score: 0.44\n",
      "Accuracy: 56.67%\n",
      "F1 Score: 0.41\n",
      "Accuracy: 56.17%\n",
      "F1 Score: 0.44\n",
      "Accuracy: 57.50%\n",
      "F1 Score: 0.41\n",
      "Accuracy: 57.33%\n",
      "F1 Score: 0.45\n",
      "Accuracy: 57.00%\n",
      "F1 Score: 0.40\n",
      "Accuracy: 58.00%\n",
      "F1 Score: 0.45\n",
      "Accuracy: 58.50%\n",
      "F1 Score: 0.41\n",
      "Accuracy: 59.33%\n",
      "F1 Score: 0.46\n",
      "Accuracy: 58.83%\n",
      "F1 Score: 0.42\n",
      "Accuracy: 58.17%\n",
      "F1 Score: 0.45\n",
      "Accuracy: 58.67%\n",
      "F1 Score: 0.43\n",
      "Accuracy: 58.17%\n",
      "F1 Score: 0.45\n",
      "Accuracy: 57.83%\n",
      "F1 Score: 0.41\n",
      "Accuracy: 59.67%\n",
      "F1 Score: 0.47\n",
      "Accuracy: 58.67%\n",
      "F1 Score: 0.42\n",
      "Accuracy: 58.50%\n",
      "F1 Score: 0.45\n",
      "Accuracy: 59.50%\n",
      "F1 Score: 0.43\n",
      "Accuracy: 57.67%\n",
      "F1 Score: 0.45\n",
      "Accuracy: 58.67%\n",
      "F1 Score: 0.43\n",
      "Accuracy: 58.17%\n",
      "F1 Score: 0.46\n",
      "Accuracy: 57.67%\n",
      "F1 Score: 0.41\n",
      "Accuracy: 57.50%\n",
      "F1 Score: 0.44\n",
      "Accuracy: 58.17%\n",
      "F1 Score: 0.42\n",
      "Accuracy: 57.67%\n",
      "F1 Score: 0.45\n",
      "Accuracy: 58.67%\n",
      "F1 Score: 0.43\n",
      "Accuracy: 57.17%\n",
      "F1 Score: 0.44\n",
      "Accuracy: 58.67%\n",
      "F1 Score: 0.42\n",
      "Accuracy: 59.17%\n",
      "F1 Score: 0.46\n",
      "Accuracy: 59.17%\n",
      "F1 Score: 0.44\n",
      "Accuracy: 58.33%\n",
      "F1 Score: 0.46\n",
      "Accuracy: 59.17%\n",
      "F1 Score: 0.44\n",
      "Accuracy: 58.00%\n",
      "F1 Score: 0.45\n",
      "Accuracy: 58.67%\n",
      "F1 Score: 0.44\n",
      "Accuracy: 58.17%\n",
      "F1 Score: 0.45\n",
      "Accuracy: 59.00%\n",
      "F1 Score: 0.44\n",
      "Accuracy: 58.17%\n",
      "F1 Score: 0.45\n",
      "Accuracy: 58.33%\n",
      "F1 Score: 0.43\n",
      "Accuracy: 59.00%\n",
      "F1 Score: 0.46\n",
      "Accuracy: 58.67%\n",
      "F1 Score: 0.44\n",
      "Accuracy: 57.83%\n",
      "F1 Score: 0.44\n",
      "Accuracy: 58.67%\n",
      "F1 Score: 0.43\n",
      "Accuracy: 58.00%\n",
      "F1 Score: 0.44\n",
      "Accuracy: 57.83%\n",
      "F1 Score: 0.42\n",
      "Accuracy: 58.83%\n",
      "F1 Score: 0.46\n",
      "Accuracy: 58.33%\n",
      "F1 Score: 0.43\n",
      "Accuracy: 57.83%\n",
      "F1 Score: 0.44\n",
      "Accuracy: 58.83%\n",
      "F1 Score: 0.42\n",
      "Accuracy: 58.33%\n",
      "F1 Score: 0.44\n",
      "Accuracy: 58.67%\n",
      "F1 Score: 0.42\n",
      "Accuracy: 58.17%\n",
      "F1 Score: 0.44\n",
      "Accuracy: 58.00%\n",
      "F1 Score: 0.41\n",
      "Accuracy: 58.33%\n",
      "F1 Score: 0.43\n",
      "Accuracy: 58.83%\n",
      "F1 Score: 0.42\n",
      "Accuracy: 58.50%\n",
      "F1 Score: 0.43\n",
      "Accuracy: 58.17%\n",
      "F1 Score: 0.41\n",
      "Accuracy: 57.83%\n",
      "F1 Score: 0.43\n",
      "Accuracy: 58.83%\n",
      "F1 Score: 0.42\n",
      "Accuracy: 58.83%\n",
      "F1 Score: 0.44\n",
      "Accuracy: 58.00%\n",
      "F1 Score: 0.41\n",
      "Accuracy: 58.00%\n",
      "F1 Score: 0.42\n",
      "Accuracy: 58.50%\n",
      "F1 Score: 0.41\n",
      "Accuracy: 58.50%\n",
      "F1 Score: 0.43\n",
      "Accuracy: 58.67%\n",
      "F1 Score: 0.41\n",
      "Accuracy: 58.00%\n",
      "F1 Score: 0.42\n",
      "Accuracy: 57.83%\n",
      "F1 Score: 0.40\n",
      "Accuracy: 57.67%\n",
      "F1 Score: 0.42\n",
      "Accuracy: 57.50%\n",
      "F1 Score: 0.40\n",
      "Accuracy: 58.00%\n",
      "F1 Score: 0.43\n"
     ]
    }
   ],
   "source": [
    "# Initialize KNN Classifier\n",
    "acc=[]\n",
    "f1_list=[]\n",
    "for i in range(1,100) :\n",
    "    knn_clf = KNeighborsClassifier(n_neighbors=i)\n",
    "    knn_clf.fit(x_train, y_train)\n",
    "    \n",
    "    preds = knn_clf.predict(x_val)\n",
    "#     probs = dt_clf.predict_proba(x_val)\n",
    "    accuracy = accuracy_score(y_val, preds)\n",
    "    print(\"Accuracy: {:.2f}%\".format(accuracy * 100))\n",
    "    acc.append(accuracy)\n",
    "    f1 = f1_score(y_val,preds)\n",
    "    f1_list.append(f1)\n",
    "    print(\"F1 Score: {:.2f}\".format(f1))\n"
   ]
  },
  {
   "cell_type": "code",
   "execution_count": 65,
   "id": "12b143e5",
   "metadata": {
    "scrolled": true
   },
   "outputs": [
    {
     "data": {
      "text/plain": [
       "[<matplotlib.lines.Line2D at 0x255962aa190>]"
      ]
     },
     "execution_count": 65,
     "metadata": {},
     "output_type": "execute_result"
    },
    {
     "data": {
      "image/png": "[encoded data removed]",
      "text/plain": [
       "<Figure size 640x480 with 1 Axes>"
      ]
     },
     "metadata": {},
     "output_type": "display_data"
    }
   ],
   "source": [
    "plt.plot(f1_list)"
   ]
  },
  {
   "cell_type": "code",
   "execution_count": 69,
   "id": "8c9af023",
   "metadata": {},
   "outputs": [
    {
     "data": {
      "text/plain": [
       "[<matplotlib.lines.Line2D at 0x255965b6d50>]"
      ]
     },
     "execution_count": 69,
     "metadata": {},
     "output_type": "execute_result"
    },
    {
     "data": {
      "image/png": "[encoded data removed]",
      "text/plain": [
       "<Figure size 640x480 with 1 Axes>"
      ]
     },
     "metadata": {},
     "output_type": "display_data"
    }
   ],
   "source": [
    "plt.plot(acc) \n",
    "# optimum number 5"
   ]
  },
  {
   "cell_type": "code",
   "execution_count": null,
   "id": "af8209eb",
   "metadata": {},
   "outputs": [],
   "source": []
  },
  {
   "cell_type": "code",
   "execution_count": 63,
   "id": "c669e358",
   "metadata": {},
   "outputs": [
    {
     "ename": "ValueError",
     "evalue": "Classification metrics can't handle a mix of multilabel-indicator and binary targets",
     "output_type": "error",
     "traceback": [
      "\u001b[1;31m---------------------------------------------------------------------------\u001b[0m",
      "\u001b[1;31mValueError\u001b[0m                                Traceback (most recent call last)",
      "Cell \u001b[1;32mIn[63], line 1\u001b[0m\n\u001b[1;32m----> 1\u001b[0m test_accuracy \u001b[38;5;241m=\u001b[39m metrics\u001b[38;5;241m.\u001b[39maccuracy_score(y_test, y_test_pred)\n\u001b[0;32m      2\u001b[0m \u001b[38;5;28mprint\u001b[39m(\u001b[38;5;124mf\u001b[39m\u001b[38;5;124m\"\u001b[39m\u001b[38;5;124mTest Set Accuracy: \u001b[39m\u001b[38;5;132;01m{\u001b[39;00mtest_accuracy\u001b[38;5;250m \u001b[39m\u001b[38;5;241m*\u001b[39m\u001b[38;5;250m \u001b[39m\u001b[38;5;241m100\u001b[39m\u001b[38;5;132;01m:\u001b[39;00m\u001b[38;5;124m.2f\u001b[39m\u001b[38;5;132;01m}\u001b[39;00m\u001b[38;5;124m%\u001b[39m\u001b[38;5;124m\"\u001b[39m)\n",
      "File \u001b[1;32mC:\\Anaconda\\Lib\\site-packages\\sklearn\\utils\\_param_validation.py:211\u001b[0m, in \u001b[0;36mvalidate_params.<locals>.decorator.<locals>.wrapper\u001b[1;34m(*args, **kwargs)\u001b[0m\n\u001b[0;32m    205\u001b[0m \u001b[38;5;28;01mtry\u001b[39;00m:\n\u001b[0;32m    206\u001b[0m     \u001b[38;5;28;01mwith\u001b[39;00m config_context(\n\u001b[0;32m    207\u001b[0m         skip_parameter_validation\u001b[38;5;241m=\u001b[39m(\n\u001b[0;32m    208\u001b[0m             prefer_skip_nested_validation \u001b[38;5;129;01mor\u001b[39;00m global_skip_validation\n\u001b[0;32m    209\u001b[0m         )\n\u001b[0;32m    210\u001b[0m     ):\n\u001b[1;32m--> 211\u001b[0m         \u001b[38;5;28;01mreturn\u001b[39;00m func(\u001b[38;5;241m*\u001b[39margs, \u001b[38;5;241m*\u001b[39m\u001b[38;5;241m*\u001b[39mkwargs)\n\u001b[0;32m    212\u001b[0m \u001b[38;5;28;01mexcept\u001b[39;00m InvalidParameterError \u001b[38;5;28;01mas\u001b[39;00m e:\n\u001b[0;32m    213\u001b[0m     \u001b[38;5;66;03m# When the function is just a wrapper around an estimator, we allow\u001b[39;00m\n\u001b[0;32m    214\u001b[0m     \u001b[38;5;66;03m# the function to delegate validation to the estimator, but we replace\u001b[39;00m\n\u001b[0;32m    215\u001b[0m     \u001b[38;5;66;03m# the name of the estimator by the name of the function in the error\u001b[39;00m\n\u001b[0;32m    216\u001b[0m     \u001b[38;5;66;03m# message to avoid confusion.\u001b[39;00m\n\u001b[0;32m    217\u001b[0m     msg \u001b[38;5;241m=\u001b[39m re\u001b[38;5;241m.\u001b[39msub(\n\u001b[0;32m    218\u001b[0m         \u001b[38;5;124mr\u001b[39m\u001b[38;5;124m\"\u001b[39m\u001b[38;5;124mparameter of \u001b[39m\u001b[38;5;124m\\\u001b[39m\u001b[38;5;124mw+ must be\u001b[39m\u001b[38;5;124m\"\u001b[39m,\n\u001b[0;32m    219\u001b[0m         \u001b[38;5;124mf\u001b[39m\u001b[38;5;124m\"\u001b[39m\u001b[38;5;124mparameter of \u001b[39m\u001b[38;5;132;01m{\u001b[39;00mfunc\u001b[38;5;241m.\u001b[39m\u001b[38;5;18m__qualname__\u001b[39m\u001b[38;5;132;01m}\u001b[39;00m\u001b[38;5;124m must be\u001b[39m\u001b[38;5;124m\"\u001b[39m,\n\u001b[0;32m    220\u001b[0m         \u001b[38;5;28mstr\u001b[39m(e),\n\u001b[0;32m    221\u001b[0m     )\n",
      "File \u001b[1;32mC:\\Anaconda\\Lib\\site-packages\\sklearn\\metrics\\_classification.py:220\u001b[0m, in \u001b[0;36maccuracy_score\u001b[1;34m(y_true, y_pred, normalize, sample_weight)\u001b[0m\n\u001b[0;32m    154\u001b[0m \u001b[38;5;250m\u001b[39m\u001b[38;5;124;03m\"\"\"Accuracy classification score.\u001b[39;00m\n\u001b[0;32m    155\u001b[0m \n\u001b[0;32m    156\u001b[0m \u001b[38;5;124;03mIn multilabel classification, this function computes subset accuracy:\u001b[39;00m\n\u001b[1;32m   (...)\u001b[0m\n\u001b[0;32m    216\u001b[0m \u001b[38;5;124;03m0.5\u001b[39;00m\n\u001b[0;32m    217\u001b[0m \u001b[38;5;124;03m\"\"\"\u001b[39;00m\n\u001b[0;32m    219\u001b[0m \u001b[38;5;66;03m# Compute accuracy for each possible representation\u001b[39;00m\n\u001b[1;32m--> 220\u001b[0m y_type, y_true, y_pred \u001b[38;5;241m=\u001b[39m _check_targets(y_true, y_pred)\n\u001b[0;32m    221\u001b[0m check_consistent_length(y_true, y_pred, sample_weight)\n\u001b[0;32m    222\u001b[0m \u001b[38;5;28;01mif\u001b[39;00m y_type\u001b[38;5;241m.\u001b[39mstartswith(\u001b[38;5;124m\"\u001b[39m\u001b[38;5;124mmultilabel\u001b[39m\u001b[38;5;124m\"\u001b[39m):\n",
      "File \u001b[1;32mC:\\Anaconda\\Lib\\site-packages\\sklearn\\metrics\\_classification.py:93\u001b[0m, in \u001b[0;36m_check_targets\u001b[1;34m(y_true, y_pred)\u001b[0m\n\u001b[0;32m     90\u001b[0m     y_type \u001b[38;5;241m=\u001b[39m {\u001b[38;5;124m\"\u001b[39m\u001b[38;5;124mmulticlass\u001b[39m\u001b[38;5;124m\"\u001b[39m}\n\u001b[0;32m     92\u001b[0m \u001b[38;5;28;01mif\u001b[39;00m \u001b[38;5;28mlen\u001b[39m(y_type) \u001b[38;5;241m>\u001b[39m \u001b[38;5;241m1\u001b[39m:\n\u001b[1;32m---> 93\u001b[0m     \u001b[38;5;28;01mraise\u001b[39;00m \u001b[38;5;167;01mValueError\u001b[39;00m(\n\u001b[0;32m     94\u001b[0m         \u001b[38;5;124m\"\u001b[39m\u001b[38;5;124mClassification metrics can\u001b[39m\u001b[38;5;124m'\u001b[39m\u001b[38;5;124mt handle a mix of \u001b[39m\u001b[38;5;132;01m{0}\u001b[39;00m\u001b[38;5;124m and \u001b[39m\u001b[38;5;132;01m{1}\u001b[39;00m\u001b[38;5;124m targets\u001b[39m\u001b[38;5;124m\"\u001b[39m\u001b[38;5;241m.\u001b[39mformat(\n\u001b[0;32m     95\u001b[0m             type_true, type_pred\n\u001b[0;32m     96\u001b[0m         )\n\u001b[0;32m     97\u001b[0m     )\n\u001b[0;32m     99\u001b[0m \u001b[38;5;66;03m# We can't have more than one value on y_type => The set is no more needed\u001b[39;00m\n\u001b[0;32m    100\u001b[0m y_type \u001b[38;5;241m=\u001b[39m y_type\u001b[38;5;241m.\u001b[39mpop()\n",
      "\u001b[1;31mValueError\u001b[0m: Classification metrics can't handle a mix of multilabel-indicator and binary targets"
     ]
    }
   ],
   "source": [
    "test_accuracy = metrics.accuracy_score(y_test, y_test_pred)\n",
    "print(f\"Test Set Accuracy: {test_accuracy * 100:.2f}%\")"
   ]
  },
  {
   "cell_type": "code",
   "execution_count": 25,
   "id": "7775ccc8",
   "metadata": {},
   "outputs": [
    {
     "ename": "NameError",
     "evalue": "name 'y_true' is not defined",
     "output_type": "error",
     "traceback": [
      "\u001b[1;31m---------------------------------------------------------------------------\u001b[0m",
      "\u001b[1;31mNameError\u001b[0m                                 Traceback (most recent call last)",
      "Cell \u001b[1;32mIn[25], line 1\u001b[0m\n\u001b[1;32m----> 1\u001b[0m accuracy \u001b[38;5;241m=\u001b[39m metrics\u001b[38;5;241m.\u001b[39maccuracy_score(y_true, y_pred)\n\u001b[0;32m      2\u001b[0m \u001b[38;5;28mprint\u001b[39m(\u001b[38;5;124mf\u001b[39m\u001b[38;5;124m\"\u001b[39m\u001b[38;5;130;01m\\n\u001b[39;00m\u001b[38;5;124mAccuracy: \u001b[39m\u001b[38;5;132;01m{\u001b[39;00maccuracy\u001b[38;5;250m \u001b[39m\u001b[38;5;241m*\u001b[39m\u001b[38;5;250m \u001b[39m\u001b[38;5;241m100\u001b[39m\u001b[38;5;132;01m:\u001b[39;00m\u001b[38;5;124m.2f\u001b[39m\u001b[38;5;132;01m}\u001b[39;00m\u001b[38;5;124m%\u001b[39m\u001b[38;5;124m\"\u001b[39m)\n",
      "\u001b[1;31mNameError\u001b[0m: name 'y_true' is not defined"
     ]
    }
   ],
   "source": [
    "accuracy = metrics.accuracy_score(y_true, y_pred)\n",
    "print(f\"\\nAccuracy: {accuracy * 100:.2f}%\")\n",
    "\n",
    "\n",
    "# random forest\n",
    "\n",
    "# max_depth \n",
    "# max_features - sqUARE root, log2\n",
    "# n_estimators - 100, 200, 300...\n",
    "# bootstrap always on"
   ]
  },
  {
   "cell_type": "code",
   "execution_count": 147,
   "id": "755b56fc",
   "metadata": {},
   "outputs": [
    {
     "name": "stdout",
     "output_type": "stream",
     "text": [
      "SVM Accuracy on Test Set: 56.17%\n"
     ]
    }
   ],
   "source": [
    "from sklearn.model_selection import train_test_split\n",
    "from sklearn.svm import SVC\n",
    "from sklearn.preprocessing import MinMaxScaler\n",
    "from sklearn import metrics\n",
    "import matplotlib.pyplot as plt\n",
    "import seaborn as sns\n",
    "from sklearn.metrics import accuracy_score, f1_score, recall_score, precision_score, roc_auc_score, confusion_matrix\n",
    "\n",
    "# Assuming you have 'data' and 'label' from your earlier example\n",
    "x, x_test, y, y_test = train_test_split(data, label, test_size=0.2, random_state=1)\n",
    "x_train, x_val, y_train, y_val = train_test_split(x, y, test_size=0.25, random_state=1)\n",
    "\n",
    "# Assuming 'MinMaxScaler' is imported\n",
    "scaler = MinMaxScaler()\n",
    "scaler.fit(x_train)\n",
    "x_train = scaler.transform(x_train)\n",
    "x_val = scaler.transform(x_val)\n",
    "x_test = scaler.transform(x_test)\n",
    "\n",
    "# Define the SVM classifier with chosen hyperparameters\n",
    "svm_clf = SVC(kernel='poly', random_state = 1, probability = True)\n",
    "\n",
    "# Train the SVM classifier on the training set\n",
    "svm_clf.fit(x_train, y_train)\n",
    "\n",
    "# Make predictions on the test set\n",
    "y_pred_test = svm_clf.predict(x_test)\n",
    "y_true_test = y_test\n",
    "\n",
    "\n",
    "# Calculate and print the accuracy on the test set\n",
    "accuracy_test = accuracy_score(y_true_test, y_pred_test)\n",
    "print(\"SVM Accuracy on Test Set: {:.2%}\".format(accuracy_test))"
   ]
  },
  {
   "cell_type": "code",
   "execution_count": 142,
   "id": "fb864d67",
   "metadata": {},
   "outputs": [
    {
     "name": "stdout",
     "output_type": "stream",
     "text": [
      "Accuracy: 64.33%\n",
      "F1 Score: 0.56\n",
      "0.4945054945054945\n",
      "0.6398104265402843\n",
      "AUC Score:0.63\n"
     ]
    },
    {
     "data": {
      "text/plain": [
       "array([False,  True,  True, False, False, False, False, False, False,\n",
       "        True,  True,  True, False, False, False,  True, False, False,\n",
       "        True, False, False, False, False, False, False,  True, False,\n",
       "        True,  True, False, False, False, False,  True, False,  True,\n",
       "        True, False, False,  True, False, False,  True,  True,  True,\n",
       "        True, False,  True, False,  True, False, False, False,  True,\n",
       "       False, False, False,  True,  True,  True,  True, False,  True,\n",
       "        True,  True, False, False, False,  True, False, False, False,\n",
       "       False, False,  True,  True,  True, False, False, False,  True,\n",
       "       False,  True,  True, False,  True, False, False, False, False,\n",
       "        True, False, False,  True, False, False, False, False, False,\n",
       "       False, False,  True,  True, False,  True, False,  True, False,\n",
       "        True, False, False, False, False, False, False,  True,  True,\n",
       "       False,  True,  True,  True,  True,  True, False, False, False,\n",
       "       False, False, False, False, False, False,  True, False, False,\n",
       "       False, False,  True, False,  True,  True,  True,  True,  True,\n",
       "        True,  True,  True, False, False,  True,  True, False, False,\n",
       "       False, False,  True, False,  True, False,  True, False,  True,\n",
       "        True,  True, False, False, False, False, False, False, False,\n",
       "       False,  True, False, False, False, False,  True, False, False,\n",
       "        True, False, False, False, False, False,  True,  True, False,\n",
       "       False,  True,  True, False, False, False, False, False, False,\n",
       "       False,  True, False, False, False,  True, False, False, False,\n",
       "       False, False,  True, False, False,  True, False,  True,  True,\n",
       "        True, False, False, False, False,  True, False,  True,  True,\n",
       "       False, False, False, False, False,  True, False,  True, False,\n",
       "       False, False, False, False,  True, False,  True,  True,  True,\n",
       "       False,  True,  True, False, False,  True, False, False, False,\n",
       "       False, False, False, False,  True, False,  True, False, False,\n",
       "       False,  True,  True,  True, False, False, False, False, False,\n",
       "       False, False, False, False, False, False, False,  True, False,\n",
       "       False,  True, False, False,  True, False,  True,  True, False,\n",
       "       False,  True,  True, False, False, False, False, False,  True,\n",
       "       False, False, False, False, False, False, False, False, False,\n",
       "        True, False, False, False,  True,  True,  True,  True,  True,\n",
       "       False,  True, False, False,  True,  True, False,  True, False,\n",
       "        True, False,  True, False, False,  True,  True, False, False,\n",
       "       False,  True, False,  True,  True,  True,  True, False, False,\n",
       "       False, False, False, False,  True,  True, False,  True, False,\n",
       "        True,  True, False, False, False, False, False, False,  True,\n",
       "       False, False, False, False,  True, False,  True, False, False,\n",
       "        True, False, False, False,  True, False, False, False, False,\n",
       "       False, False,  True, False, False, False,  True, False,  True,\n",
       "       False,  True, False, False, False,  True,  True,  True, False,\n",
       "        True, False, False,  True, False, False, False, False, False,\n",
       "        True, False, False,  True, False,  True, False, False,  True,\n",
       "       False, False, False,  True,  True,  True,  True,  True,  True,\n",
       "       False, False, False, False, False, False, False, False, False,\n",
       "       False,  True,  True, False, False,  True, False, False, False,\n",
       "        True, False, False,  True, False,  True, False, False, False,\n",
       "        True, False, False,  True, False,  True, False,  True,  True,\n",
       "        True, False,  True, False, False, False, False,  True, False,\n",
       "       False,  True, False,  True, False, False, False, False, False,\n",
       "       False,  True,  True, False,  True, False, False, False, False,\n",
       "       False, False, False,  True, False,  True,  True, False, False,\n",
       "       False, False, False, False,  True, False,  True,  True, False,\n",
       "       False, False, False,  True, False, False, False,  True,  True,\n",
       "        True, False, False,  True, False,  True, False, False, False,\n",
       "       False,  True, False, False, False, False, False, False,  True,\n",
       "       False,  True, False, False, False,  True,  True, False,  True,\n",
       "        True,  True, False, False, False, False, False, False, False,\n",
       "       False, False, False, False, False,  True,  True, False, False,\n",
       "       False,  True, False, False, False,  True, False, False, False,\n",
       "       False, False, False, False,  True, False,  True, False, False,\n",
       "        True,  True,  True, False, False,  True, False, False, False,\n",
       "        True, False, False,  True, False,  True,  True, False, False,\n",
       "       False, False,  True, False,  True,  True])"
      ]
     },
     "execution_count": 142,
     "metadata": {},
     "output_type": "execute_result"
    },
    {
     "data": {
      "image/png": "[encoded data removed]",
      "text/plain": [
       "<Figure size 640x480 with 2 Axes>"
      ]
     },
     "metadata": {},
     "output_type": "display_data"
    }
   ],
   "source": [
    "predict_and_plot(svm_clf, x_val, y_val)"
   ]
  },
  {
   "cell_type": "code",
   "execution_count": 140,
   "id": "467cf566",
   "metadata": {},
   "outputs": [
    {
     "name": "stdout",
     "output_type": "stream",
     "text": [
      "Accuracy: 58.00%\n",
      "F1 Score: 0.43\n",
      "0.3516483516483517\n",
      "0.5614035087719298\n",
      "AUC Score:0.56\n"
     ]
    },
    {
     "data": {
      "text/plain": [
       "array([False,  True,  True, False, False,  True, False, False, False,\n",
       "       False, False, False, False, False, False, False, False, False,\n",
       "       False, False,  True, False, False, False, False, False,  True,\n",
       "        True,  True, False, False, False, False, False, False,  True,\n",
       "       False, False, False, False, False,  True, False,  True,  True,\n",
       "       False, False,  True,  True,  True, False, False, False, False,\n",
       "       False, False, False,  True, False, False, False, False, False,\n",
       "       False, False, False, False, False, False, False, False,  True,\n",
       "        True, False, False, False, False, False, False, False, False,\n",
       "       False,  True, False, False, False, False, False,  True, False,\n",
       "       False, False, False,  True, False,  True, False,  True, False,\n",
       "       False, False,  True,  True, False, False, False, False, False,\n",
       "       False, False, False,  True, False, False, False, False, False,\n",
       "       False, False,  True, False,  True, False, False, False, False,\n",
       "        True,  True,  True, False, False, False,  True,  True, False,\n",
       "       False, False, False, False, False,  True,  True, False, False,\n",
       "       False, False, False,  True, False, False, False,  True,  True,\n",
       "       False, False, False, False, False,  True, False, False,  True,\n",
       "        True, False,  True, False, False, False, False, False, False,\n",
       "       False, False, False, False,  True, False,  True, False, False,\n",
       "       False, False, False,  True, False, False,  True,  True, False,\n",
       "       False,  True,  True,  True, False, False, False,  True, False,\n",
       "       False, False, False,  True, False, False, False, False,  True,\n",
       "       False, False,  True, False, False,  True, False, False,  True,\n",
       "       False,  True, False, False, False, False, False,  True, False,\n",
       "       False, False, False, False, False,  True,  True, False, False,\n",
       "       False, False, False, False, False, False,  True,  True, False,\n",
       "       False,  True,  True, False, False,  True, False, False, False,\n",
       "       False, False,  True, False, False, False,  True, False, False,\n",
       "       False, False, False,  True, False, False, False, False,  True,\n",
       "       False, False, False, False, False, False, False, False, False,\n",
       "       False,  True, False, False,  True, False, False, False, False,\n",
       "        True, False,  True, False, False, False,  True, False,  True,\n",
       "       False, False, False, False, False, False, False,  True, False,\n",
       "       False, False,  True, False, False,  True,  True,  True, False,\n",
       "       False,  True, False, False,  True,  True, False,  True, False,\n",
       "        True, False, False, False,  True, False,  True, False,  True,\n",
       "       False,  True, False, False, False, False,  True, False, False,\n",
       "       False, False, False, False, False, False, False,  True, False,\n",
       "        True,  True, False, False, False,  True, False,  True,  True,\n",
       "       False,  True, False, False,  True, False,  True, False, False,\n",
       "       False,  True, False, False,  True, False,  True,  True, False,\n",
       "       False, False,  True, False,  True, False, False, False, False,\n",
       "        True,  True, False, False, False,  True, False, False,  True,\n",
       "       False, False, False, False, False, False, False, False, False,\n",
       "        True, False, False,  True, False, False, False, False, False,\n",
       "       False, False, False,  True, False, False, False,  True,  True,\n",
       "       False, False, False, False,  True,  True, False, False,  True,\n",
       "       False, False,  True, False, False, False, False, False, False,\n",
       "        True, False, False,  True, False, False,  True, False, False,\n",
       "        True, False, False, False, False, False, False,  True, False,\n",
       "        True, False, False,  True,  True,  True, False,  True, False,\n",
       "       False, False, False, False, False, False, False, False, False,\n",
       "        True, False,  True, False, False,  True, False, False, False,\n",
       "       False, False, False, False, False,  True, False, False,  True,\n",
       "       False, False, False, False,  True,  True,  True, False,  True,\n",
       "       False, False, False, False,  True, False, False, False,  True,\n",
       "        True, False, False,  True, False,  True,  True, False, False,\n",
       "        True,  True, False, False,  True, False, False, False, False,\n",
       "        True,  True, False, False, False,  True,  True, False, False,\n",
       "       False,  True,  True, False, False, False,  True, False, False,\n",
       "        True, False, False, False, False,  True, False, False,  True,\n",
       "       False, False, False, False, False, False, False, False, False,\n",
       "       False,  True, False,  True,  True,  True,  True,  True, False,\n",
       "        True, False,  True, False, False,  True, False,  True,  True,\n",
       "       False, False, False, False, False,  True, False, False, False,\n",
       "       False,  True,  True, False,  True,  True])"
      ]
     },
     "execution_count": 140,
     "metadata": {},
     "output_type": "execute_result"
    },
    {
     "data": {
      "image/png": "[encoded data removed]",
      "text/plain": [
       "<Figure size 640x480 with 2 Axes>"
      ]
     },
     "metadata": {},
     "output_type": "display_data"
    }
   ],
   "source": [
    "predict_and_plot(knn_clf, x_val, y_val)"
   ]
  },
  {
   "cell_type": "code",
   "execution_count": 125,
   "id": "e82e482d",
   "metadata": {
    "scrolled": true
   },
   "outputs": [
    {
     "name": "stdout",
     "output_type": "stream",
     "text": [
      "Accuracy: 54.50%\n",
      "F1 Score: 0.52\n",
      "0.5494505494505495\n",
      "0.5\n",
      "AUC Score:0.55\n"
     ]
    },
    {
     "data": {
      "text/plain": [
       "array([ True, False,  True, False, False, False,  True,  True, False,\n",
       "        True, False, False, False, False, False,  True,  True, False,\n",
       "        True, False, False, False,  True, False,  True, False,  True,\n",
       "       False,  True,  True,  True, False, False,  True,  True,  True,\n",
       "       False, False, False, False, False,  True,  True,  True,  True,\n",
       "        True, False,  True,  True, False,  True,  True, False,  True,\n",
       "        True, False,  True, False,  True, False,  True, False, False,\n",
       "       False, False, False,  True,  True, False, False,  True, False,\n",
       "       False,  True, False,  True,  True,  True, False,  True, False,\n",
       "        True,  True, False, False, False,  True,  True, False, False,\n",
       "       False,  True, False,  True, False,  True,  True,  True, False,\n",
       "       False,  True,  True, False,  True,  True,  True, False,  True,\n",
       "       False,  True, False,  True, False, False,  True, False, False,\n",
       "        True,  True, False, False, False,  True, False,  True,  True,\n",
       "        True, False,  True,  True,  True, False, False,  True,  True,\n",
       "       False, False, False, False,  True, False, False, False,  True,\n",
       "       False,  True, False, False, False,  True,  True, False,  True,\n",
       "       False,  True, False,  True,  True, False,  True, False, False,\n",
       "       False, False, False, False, False,  True, False,  True, False,\n",
       "        True, False,  True, False,  True, False,  True, False,  True,\n",
       "       False, False,  True, False,  True,  True,  True, False,  True,\n",
       "        True, False, False,  True,  True,  True, False, False,  True,\n",
       "        True, False, False, False,  True,  True,  True, False, False,\n",
       "        True,  True,  True, False, False, False, False, False,  True,\n",
       "       False,  True, False, False, False,  True, False, False, False,\n",
       "       False, False,  True, False,  True, False,  True, False, False,\n",
       "        True,  True, False,  True,  True, False,  True,  True,  True,\n",
       "        True, False,  True, False,  True,  True, False,  True, False,\n",
       "        True, False, False, False,  True,  True, False, False, False,\n",
       "       False,  True, False,  True, False, False,  True, False, False,\n",
       "        True, False, False, False,  True, False, False,  True, False,\n",
       "       False,  True, False,  True, False, False, False,  True,  True,\n",
       "       False, False,  True,  True,  True, False,  True,  True, False,\n",
       "        True, False, False,  True, False,  True, False,  True,  True,\n",
       "       False, False, False, False,  True, False, False,  True, False,\n",
       "       False,  True,  True,  True,  True,  True,  True,  True,  True,\n",
       "        True,  True,  True, False,  True,  True,  True, False, False,\n",
       "       False,  True,  True, False, False,  True,  True, False,  True,\n",
       "        True,  True,  True,  True,  True, False,  True, False, False,\n",
       "        True, False, False, False, False,  True,  True,  True, False,\n",
       "       False, False,  True,  True, False,  True,  True, False, False,\n",
       "        True,  True, False,  True,  True,  True, False, False, False,\n",
       "        True, False, False,  True,  True,  True,  True,  True,  True,\n",
       "        True,  True, False, False, False,  True, False,  True,  True,\n",
       "        True, False, False,  True, False, False, False,  True,  True,\n",
       "        True,  True, False,  True, False,  True, False, False, False,\n",
       "        True,  True, False,  True, False, False,  True,  True,  True,\n",
       "        True,  True,  True, False, False,  True,  True, False, False,\n",
       "       False,  True,  True, False,  True,  True,  True,  True, False,\n",
       "       False, False, False,  True,  True,  True, False,  True,  True,\n",
       "       False,  True,  True,  True,  True,  True,  True, False, False,\n",
       "        True,  True, False,  True, False,  True, False, False, False,\n",
       "        True,  True,  True,  True, False, False, False, False,  True,\n",
       "       False, False,  True, False, False, False, False,  True,  True,\n",
       "        True,  True, False, False,  True,  True,  True,  True,  True,\n",
       "       False, False,  True,  True,  True, False, False,  True, False,\n",
       "        True,  True, False, False,  True, False,  True, False, False,\n",
       "        True,  True, False,  True, False, False,  True, False, False,\n",
       "       False,  True,  True,  True,  True,  True, False,  True,  True,\n",
       "       False, False,  True, False,  True,  True, False,  True,  True,\n",
       "       False,  True, False,  True, False,  True,  True,  True, False,\n",
       "       False, False,  True, False, False, False, False,  True,  True,\n",
       "        True, False, False, False,  True, False, False,  True, False,\n",
       "       False,  True, False,  True,  True,  True, False, False, False,\n",
       "        True, False,  True,  True, False, False, False, False,  True,\n",
       "        True,  True,  True, False, False, False, False,  True,  True,\n",
       "        True, False, False, False,  True, False])"
      ]
     },
     "execution_count": 125,
     "metadata": {},
     "output_type": "execute_result"
    },
    {
     "data": {
      "image/png": "[encoded data removed]",
      "text/plain": [
       "<Figure size 640x480 with 2 Axes>"
      ]
     },
     "metadata": {},
     "output_type": "display_data"
    }
   ],
   "source": [
    "predict_and_plot(dt_clf, x_val, y_val)"
   ]
  },
  {
   "cell_type": "code",
   "execution_count": 72,
   "id": "3177af9a",
   "metadata": {},
   "outputs": [],
   "source": [
    "def predict_and_plot(model, inputs, targets, name=''):\n",
    "    preds = model.predict(inputs)\n",
    "    probs = model.predict_proba(inputs)\n",
    "    accuracy = accuracy_score(targets, preds)\n",
    "    print(\"Accuracy: {:.2f}%\".format(accuracy * 100))\n",
    "    f1 = f1_score(targets,preds)\n",
    "    print(\"F1 Score: {:.2f}\".format(f1))\n",
    "    recall = recall_score(targets,preds)\n",
    "    print(recall)\n",
    "    precision = precision_score(targets,preds)\n",
    "    print(precision)\n",
    "    auc = roc_auc_score(targets,preds)\n",
    "    print(\"AUC Score:{:.2f}\".format(auc))\n",
    "    cf = confusion_matrix(targets, preds)\n",
    "    plt.figure()\n",
    "    sns.heatmap(cf, annot=True)\n",
    "    plt.xlabel('Prediction')\n",
    "    plt.ylabel('Target')\n",
    "    plt.title('{} Confusion Matrix'.format(name));\n",
    "\n",
    "    return preds"
   ]
  },
  {
   "cell_type": "code",
   "execution_count": 145,
   "id": "1a0935e2",
   "metadata": {},
   "outputs": [
    {
     "name": "stdout",
     "output_type": "stream",
     "text": [
      "Accuracy: 60.50%\n",
      "F1 Score: 0.54\n",
      "0.5054945054945055\n",
      "0.575\n",
      "AUC Score:0.60\n"
     ]
    },
    {
     "data": {
      "text/plain": [
       "array([False,  True, False, False,  True, False, False, False,  True,\n",
       "        True, False,  True, False,  True, False,  True, False, False,\n",
       "       False, False, False, False, False, False, False,  True,  True,\n",
       "        True,  True,  True,  True, False, False,  True, False,  True,\n",
       "        True,  True, False,  True, False,  True, False, False,  True,\n",
       "       False,  True,  True,  True,  True, False, False, False,  True,\n",
       "       False, False, False,  True,  True,  True, False, False, False,\n",
       "        True,  True, False, False,  True,  True,  True,  True,  True,\n",
       "        True, False, False,  True, False, False, False, False,  True,\n",
       "       False, False, False, False, False, False, False,  True,  True,\n",
       "       False, False, False, False, False, False, False, False,  True,\n",
       "       False, False,  True,  True,  True, False, False,  True, False,\n",
       "        True,  True, False, False, False, False, False,  True, False,\n",
       "        True, False,  True,  True,  True, False, False, False,  True,\n",
       "       False,  True, False, False,  True, False,  True, False, False,\n",
       "        True, False,  True, False, False,  True,  True, False, False,\n",
       "       False,  True,  True, False, False, False,  True, False,  True,\n",
       "        True, False, False, False, False,  True, False, False,  True,\n",
       "        True, False,  True,  True, False, False, False, False, False,\n",
       "       False,  True,  True, False, False, False,  True, False,  True,\n",
       "       False,  True, False,  True,  True, False,  True,  True, False,\n",
       "       False,  True,  True,  True, False,  True, False, False, False,\n",
       "       False, False, False,  True, False, False, False, False, False,\n",
       "       False, False,  True, False,  True,  True, False, False,  True,\n",
       "        True,  True, False,  True, False,  True, False,  True, False,\n",
       "       False, False, False,  True,  True,  True, False,  True, False,\n",
       "        True, False, False, False,  True, False,  True, False, False,\n",
       "       False,  True,  True, False, False,  True, False, False, False,\n",
       "       False, False,  True, False, False, False, False, False, False,\n",
       "        True, False, False,  True, False, False,  True, False, False,\n",
       "        True, False,  True, False,  True, False, False,  True,  True,\n",
       "       False,  True, False, False,  True, False,  True, False,  True,\n",
       "       False,  True,  True, False, False, False,  True, False,  True,\n",
       "       False, False, False,  True, False, False, False,  True, False,\n",
       "       False, False, False, False, False, False, False,  True, False,\n",
       "       False, False,  True, False, False,  True, False,  True, False,\n",
       "        True,  True, False, False,  True,  True,  True, False,  True,\n",
       "       False,  True,  True, False, False, False,  True, False, False,\n",
       "        True, False, False,  True,  True, False, False,  True, False,\n",
       "        True,  True, False, False, False,  True, False,  True,  True,\n",
       "       False,  True, False, False,  True,  True, False, False, False,\n",
       "        True,  True, False, False,  True,  True, False, False, False,\n",
       "       False, False,  True, False, False, False, False,  True, False,\n",
       "        True,  True, False,  True, False,  True,  True, False,  True,\n",
       "       False, False, False,  True, False, False, False, False, False,\n",
       "        True, False,  True,  True, False,  True,  True, False, False,\n",
       "       False, False,  True,  True, False,  True,  True,  True,  True,\n",
       "       False, False,  True, False,  True, False, False, False, False,\n",
       "       False, False,  True, False, False,  True, False, False, False,\n",
       "        True, False, False,  True, False, False, False, False, False,\n",
       "        True, False, False,  True, False, False, False,  True,  True,\n",
       "        True, False, False,  True,  True, False, False,  True,  True,\n",
       "       False,  True, False,  True, False, False, False,  True, False,\n",
       "       False, False, False, False, False,  True,  True, False, False,\n",
       "       False, False, False, False, False,  True,  True, False,  True,\n",
       "       False, False,  True, False, False, False,  True,  True,  True,\n",
       "       False, False, False,  True,  True, False, False,  True,  True,\n",
       "       False, False, False,  True, False,  True,  True, False, False,\n",
       "        True,  True, False, False,  True, False,  True, False,  True,\n",
       "        True,  True, False, False, False, False,  True, False, False,\n",
       "       False,  True,  True, False, False,  True, False, False, False,\n",
       "       False, False,  True,  True, False, False,  True, False,  True,\n",
       "       False, False, False, False, False,  True, False,  True, False,\n",
       "       False,  True, False,  True,  True,  True,  True,  True, False,\n",
       "        True, False, False, False,  True,  True, False,  True,  True,\n",
       "        True, False,  True,  True, False,  True, False, False, False,\n",
       "       False,  True,  True, False, False,  True])"
      ]
     },
     "execution_count": 145,
     "metadata": {},
     "output_type": "execute_result"
    },
    {
     "data": {
      "image/png": "[encoded data removed]",
      "text/plain": [
       "<Figure size 640x480 with 2 Axes>"
      ]
     },
     "metadata": {},
     "output_type": "display_data"
    }
   ],
   "source": [
    "predict_and_plot(rf_clf, x_val, y_val)"
   ]
  },
  {
   "cell_type": "code",
   "execution_count": 143,
   "id": "a91b74c0",
   "metadata": {},
   "outputs": [
    {
     "name": "stdout",
     "output_type": "stream",
     "text": [
      "Accuracy (n_estimators=1): 52.33%\n",
      "F1 Score (n_estimators=1): 0.49\n",
      "Accuracy (n_estimators=2): 56.83%\n",
      "F1 Score (n_estimators=2): 0.38\n",
      "Accuracy (n_estimators=3): 57.00%\n",
      "F1 Score (n_estimators=3): 0.55\n",
      "Accuracy (n_estimators=4): 57.50%\n",
      "F1 Score (n_estimators=4): 0.46\n",
      "Accuracy (n_estimators=5): 57.83%\n",
      "F1 Score (n_estimators=5): 0.56\n",
      "Accuracy (n_estimators=6): 59.00%\n",
      "F1 Score (n_estimators=6): 0.49\n",
      "Accuracy (n_estimators=7): 55.17%\n",
      "F1 Score (n_estimators=7): 0.52\n",
      "Accuracy (n_estimators=8): 58.00%\n",
      "F1 Score (n_estimators=8): 0.47\n",
      "Accuracy (n_estimators=9): 58.17%\n",
      "F1 Score (n_estimators=9): 0.55\n",
      "Accuracy (n_estimators=10): 58.67%\n",
      "F1 Score (n_estimators=10): 0.51\n",
      "Accuracy (n_estimators=11): 58.33%\n",
      "F1 Score (n_estimators=11): 0.55\n",
      "Accuracy (n_estimators=12): 58.67%\n",
      "F1 Score (n_estimators=12): 0.51\n",
      "Accuracy (n_estimators=13): 59.17%\n",
      "F1 Score (n_estimators=13): 0.56\n",
      "Accuracy (n_estimators=14): 58.33%\n",
      "F1 Score (n_estimators=14): 0.51\n",
      "Accuracy (n_estimators=15): 57.67%\n",
      "F1 Score (n_estimators=15): 0.54\n",
      "Accuracy (n_estimators=16): 59.17%\n",
      "F1 Score (n_estimators=16): 0.51\n",
      "Accuracy (n_estimators=17): 57.17%\n",
      "F1 Score (n_estimators=17): 0.53\n",
      "Accuracy (n_estimators=18): 60.00%\n",
      "F1 Score (n_estimators=18): 0.52\n",
      "Accuracy (n_estimators=19): 57.00%\n",
      "F1 Score (n_estimators=19): 0.53\n",
      "Accuracy (n_estimators=20): 57.17%\n",
      "F1 Score (n_estimators=20): 0.49\n",
      "Accuracy (n_estimators=21): 56.83%\n",
      "F1 Score (n_estimators=21): 0.52\n",
      "Accuracy (n_estimators=22): 57.67%\n",
      "F1 Score (n_estimators=22): 0.51\n",
      "Accuracy (n_estimators=23): 58.00%\n",
      "F1 Score (n_estimators=23): 0.54\n",
      "Accuracy (n_estimators=24): 58.17%\n",
      "F1 Score (n_estimators=24): 0.51\n",
      "Accuracy (n_estimators=25): 57.67%\n",
      "F1 Score (n_estimators=25): 0.53\n",
      "Accuracy (n_estimators=26): 57.83%\n",
      "F1 Score (n_estimators=26): 0.50\n",
      "Accuracy (n_estimators=27): 57.33%\n",
      "F1 Score (n_estimators=27): 0.53\n",
      "Accuracy (n_estimators=28): 57.67%\n",
      "F1 Score (n_estimators=28): 0.50\n",
      "Accuracy (n_estimators=29): 57.83%\n",
      "F1 Score (n_estimators=29): 0.53\n",
      "Accuracy (n_estimators=30): 59.33%\n",
      "F1 Score (n_estimators=30): 0.52\n",
      "Accuracy (n_estimators=31): 59.83%\n",
      "F1 Score (n_estimators=31): 0.55\n",
      "Accuracy (n_estimators=32): 59.17%\n",
      "F1 Score (n_estimators=32): 0.51\n",
      "Accuracy (n_estimators=33): 59.17%\n",
      "F1 Score (n_estimators=33): 0.54\n",
      "Accuracy (n_estimators=34): 58.67%\n",
      "F1 Score (n_estimators=34): 0.51\n",
      "Accuracy (n_estimators=35): 58.83%\n",
      "F1 Score (n_estimators=35): 0.53\n",
      "Accuracy (n_estimators=36): 58.67%\n",
      "F1 Score (n_estimators=36): 0.52\n",
      "Accuracy (n_estimators=37): 57.33%\n",
      "F1 Score (n_estimators=37): 0.52\n",
      "Accuracy (n_estimators=38): 58.00%\n",
      "F1 Score (n_estimators=38): 0.50\n",
      "Accuracy (n_estimators=39): 58.33%\n",
      "F1 Score (n_estimators=39): 0.53\n",
      "Accuracy (n_estimators=40): 57.00%\n",
      "F1 Score (n_estimators=40): 0.49\n",
      "Accuracy (n_estimators=41): 58.17%\n",
      "F1 Score (n_estimators=41): 0.52\n",
      "Accuracy (n_estimators=42): 58.17%\n",
      "F1 Score (n_estimators=42): 0.50\n",
      "Accuracy (n_estimators=43): 58.83%\n",
      "F1 Score (n_estimators=43): 0.53\n",
      "Accuracy (n_estimators=44): 59.00%\n",
      "F1 Score (n_estimators=44): 0.51\n",
      "Accuracy (n_estimators=45): 60.33%\n",
      "F1 Score (n_estimators=45): 0.55\n",
      "Accuracy (n_estimators=46): 59.33%\n",
      "F1 Score (n_estimators=46): 0.51\n",
      "Accuracy (n_estimators=47): 59.00%\n",
      "F1 Score (n_estimators=47): 0.52\n",
      "Accuracy (n_estimators=48): 58.67%\n",
      "F1 Score (n_estimators=48): 0.51\n",
      "Accuracy (n_estimators=49): 58.83%\n",
      "F1 Score (n_estimators=49): 0.52\n",
      "Accuracy (n_estimators=50): 58.83%\n",
      "F1 Score (n_estimators=50): 0.51\n",
      "Accuracy (n_estimators=51): 58.67%\n",
      "F1 Score (n_estimators=51): 0.52\n",
      "Accuracy (n_estimators=52): 58.83%\n",
      "F1 Score (n_estimators=52): 0.51\n",
      "Accuracy (n_estimators=53): 58.83%\n",
      "F1 Score (n_estimators=53): 0.52\n",
      "Accuracy (n_estimators=54): 58.17%\n",
      "F1 Score (n_estimators=54): 0.49\n",
      "Accuracy (n_estimators=55): 58.67%\n",
      "F1 Score (n_estimators=55): 0.51\n",
      "Accuracy (n_estimators=56): 58.50%\n",
      "F1 Score (n_estimators=56): 0.49\n",
      "Accuracy (n_estimators=57): 58.33%\n",
      "F1 Score (n_estimators=57): 0.51\n",
      "Accuracy (n_estimators=58): 58.83%\n",
      "F1 Score (n_estimators=58): 0.50\n",
      "Accuracy (n_estimators=59): 59.67%\n",
      "F1 Score (n_estimators=59): 0.52\n",
      "Accuracy (n_estimators=60): 59.83%\n",
      "F1 Score (n_estimators=60): 0.51\n",
      "Accuracy (n_estimators=61): 60.50%\n",
      "F1 Score (n_estimators=61): 0.54\n",
      "Accuracy (n_estimators=62): 60.50%\n",
      "F1 Score (n_estimators=62): 0.53\n",
      "Accuracy (n_estimators=63): 60.00%\n",
      "F1 Score (n_estimators=63): 0.53\n",
      "Accuracy (n_estimators=64): 60.67%\n",
      "F1 Score (n_estimators=64): 0.53\n",
      "Accuracy (n_estimators=65): 60.50%\n",
      "F1 Score (n_estimators=65): 0.53\n",
      "Accuracy (n_estimators=66): 60.17%\n",
      "F1 Score (n_estimators=66): 0.51\n",
      "Accuracy (n_estimators=67): 59.83%\n",
      "F1 Score (n_estimators=67): 0.52\n",
      "Accuracy (n_estimators=68): 60.00%\n",
      "F1 Score (n_estimators=68): 0.51\n",
      "Accuracy (n_estimators=69): 59.33%\n",
      "F1 Score (n_estimators=69): 0.51\n",
      "Accuracy (n_estimators=70): 59.67%\n",
      "F1 Score (n_estimators=70): 0.51\n",
      "Accuracy (n_estimators=71): 60.50%\n",
      "F1 Score (n_estimators=71): 0.53\n",
      "Accuracy (n_estimators=72): 59.83%\n",
      "F1 Score (n_estimators=72): 0.51\n",
      "Accuracy (n_estimators=73): 60.83%\n",
      "F1 Score (n_estimators=73): 0.54\n",
      "Accuracy (n_estimators=74): 60.83%\n",
      "F1 Score (n_estimators=74): 0.52\n",
      "Accuracy (n_estimators=75): 60.67%\n",
      "F1 Score (n_estimators=75): 0.53\n",
      "Accuracy (n_estimators=76): 60.00%\n",
      "F1 Score (n_estimators=76): 0.51\n",
      "Accuracy (n_estimators=77): 61.00%\n",
      "F1 Score (n_estimators=77): 0.54\n",
      "Accuracy (n_estimators=78): 61.17%\n",
      "F1 Score (n_estimators=78): 0.53\n",
      "Accuracy (n_estimators=79): 61.00%\n",
      "F1 Score (n_estimators=79): 0.54\n",
      "Accuracy (n_estimators=80): 61.17%\n",
      "F1 Score (n_estimators=80): 0.53\n",
      "Accuracy (n_estimators=81): 60.67%\n",
      "F1 Score (n_estimators=81): 0.54\n",
      "Accuracy (n_estimators=82): 60.00%\n",
      "F1 Score (n_estimators=82): 0.52\n",
      "Accuracy (n_estimators=83): 60.50%\n",
      "F1 Score (n_estimators=83): 0.53\n",
      "Accuracy (n_estimators=84): 61.00%\n",
      "F1 Score (n_estimators=84): 0.53\n",
      "Accuracy (n_estimators=85): 61.00%\n",
      "F1 Score (n_estimators=85): 0.54\n",
      "Accuracy (n_estimators=86): 61.17%\n",
      "F1 Score (n_estimators=86): 0.54\n",
      "Accuracy (n_estimators=87): 60.67%\n",
      "F1 Score (n_estimators=87): 0.54\n",
      "Accuracy (n_estimators=88): 60.50%\n",
      "F1 Score (n_estimators=88): 0.52\n",
      "Accuracy (n_estimators=89): 60.17%\n",
      "F1 Score (n_estimators=89): 0.53\n",
      "Accuracy (n_estimators=90): 61.17%\n",
      "F1 Score (n_estimators=90): 0.53\n",
      "Accuracy (n_estimators=91): 61.00%\n",
      "F1 Score (n_estimators=91): 0.54\n",
      "Accuracy (n_estimators=92): 61.50%\n",
      "F1 Score (n_estimators=92): 0.54\n",
      "Accuracy (n_estimators=93): 60.83%\n",
      "F1 Score (n_estimators=93): 0.54\n",
      "Accuracy (n_estimators=94): 61.83%\n",
      "F1 Score (n_estimators=94): 0.54\n",
      "Accuracy (n_estimators=95): 61.00%\n",
      "F1 Score (n_estimators=95): 0.54\n",
      "Accuracy (n_estimators=96): 61.83%\n",
      "F1 Score (n_estimators=96): 0.54\n",
      "Accuracy (n_estimators=97): 61.83%\n",
      "F1 Score (n_estimators=97): 0.55\n",
      "Accuracy (n_estimators=98): 61.33%\n",
      "F1 Score (n_estimators=98): 0.53\n",
      "Accuracy (n_estimators=99): 60.50%\n",
      "F1 Score (n_estimators=99): 0.54\n"
     ]
    }
   ],
   "source": [
    "from sklearn.ensemble import RandomForestClassifier\n",
    "from sklearn.metrics import accuracy_score, f1_score\n",
    "acc = []\n",
    "f1_list = []\n",
    "\n",
    "for i in range(1, 100):\n",
    "    # Initialize Random Forest classifier with different number of trees\n",
    "    rf_clf = RandomForestClassifier(n_estimators=i, random_state=42)\n",
    "    \n",
    "    # Train the Random Forest classifier\n",
    "    rf_clf.fit(x_train, y_train)\n",
    "    \n",
    "    # Make predictions on the validation set\n",
    "    preds = rf_clf.predict(x_val)\n",
    "    \n",
    "    # Calculate accuracy\n",
    "    accuracy = accuracy_score(y_val, preds)\n",
    "    print(\"Accuracy (n_estimators={}): {:.2f}%\".format(i, accuracy * 100))\n",
    "    acc.append(accuracy)\n",
    "    \n",
    "    # Calculate F1 score\n",
    "    f1 = f1_score(y_val, preds)\n",
    "    f1_list.append(f1)\n",
    "    print(\"F1 Score (n_estimators={}): {:.2f}\".format(i, f1))"
   ]
  },
  {
   "cell_type": "code",
   "execution_count": 46,
   "id": "bbe78345",
   "metadata": {},
   "outputs": [
    {
     "name": "stdout",
     "output_type": "stream",
     "text": [
      "WARNING:tensorflow:From C:\\Anaconda\\Lib\\site-packages\\keras\\src\\backend.py:277: The name tf.reset_default_graph is deprecated. Please use tf.compat.v1.reset_default_graph instead.\n",
      "\n"
     ]
    }
   ],
   "source": [
    "K.clear_session()\n",
    "y_v = label\n",
    "y_v = to_categorical(y_v)\n",
    "x_train, x_test, y_train, y_test = train_test_split(\n",
    "    data, y_v, test_size=0.2, random_state=1)\n",
    "x_train, x_val, y_train, y_val = train_test_split(\n",
    "    x_train, y_train, test_size=0.25, random_state=1)"
   ]
  },
  {
   "cell_type": "code",
   "execution_count": 47,
   "id": "bd56e93e",
   "metadata": {},
   "outputs": [],
   "source": [
    "def model_builder(hp):\n",
    "    model = models.Sequential()\n",
    "    model.add(Input(shape=(x_train.shape[1],)))\n",
    "\n",
    "    for i in range(hp.Int('layers', 2, 6)):\n",
    "        model.add(Dense(units=hp.Int('units_' + str(i), 32, 1024, step=32),\n",
    "                        activation=hp.Choice('act_' + str(i), ['relu', 'sigmoid'])))\n",
    "\n",
    "    model.add(Dense(v.N_CLASSES, activation='softmax', name='out'))\n",
    "\n",
    "    hp_learning_rate = hp.Choice('learning_rate', values=[1e-2, 1e-3, 1e-4])\n",
    "\n",
    "    model.compile(optimizer=opt.adam_v2.Adam(learning_rate=hp_learning_rate),\n",
    "                  loss=\"binary_crossentropy\",\n",
    "                  metrics=['accuracy'])\n",
    "    return model"
   ]
  },
  {
   "cell_type": "code",
   "execution_count": 51,
   "id": "c1ec3e5c",
   "metadata": {},
   "outputs": [
    {
     "name": "stderr",
     "output_type": "stream",
     "text": [
      "C:\\Users\\akash\\AppData\\Local\\Temp\\ipykernel_9368\\3862213197.py:4: DeprecationWarning: `import kerastuner` is deprecated, please use `import keras_tuner`.\n",
      "  from kerastuner.engine.hyperparameters import HyperParameters\n"
     ]
    }
   ],
   "source": [
    "from tensorflow.keras import Input, models\n",
    "from tensorflow.keras.layers import Dense\n",
    "from tensorflow.keras.optimizers import Adam\n",
    "from kerastuner.engine.hyperparameters import HyperParameters\n",
    "\n",
    "def model_builder(hp):\n",
    "    model = models.Sequential()\n",
    "    model.add(Input(shape=(x_train.shape[1],)))\n",
    "\n",
    "    for i in range(hp.Int('layers', 2, 6)):\n",
    "        model.add(Dense(units=hp.Int('units_' + str(i), 32, 1024, step=32),\n",
    "                        activation=hp.Choice('act_' + str(i), ['relu', 'sigmoid'])))\n",
    "\n",
    "    model.add(Dense(v.N_CLASSES, activation='softmax', name='out'))\n",
    "\n",
    "    hp_learning_rate = hp.Choice('learning_rate', values=[1e-2, 1e-3, 1e-4])\n",
    "\n",
    "    model.compile(optimizer=Adam(learning_rate=hp_learning_rate),\n",
    "                  loss=\"binary_crossentropy\",\n",
    "                  metrics=['accuracy'])\n",
    "    return model"
   ]
  },
  {
   "cell_type": "code",
   "execution_count": 52,
   "id": "6655d7e3",
   "metadata": {},
   "outputs": [],
   "source": [
    "from tensorflow import keras\n",
    "from keras import optimizers as opt\n",
    "\n",
    "tuner = RandomSearch(\n",
    "    model_builder,\n",
    "    objective='val_accuracy',\n",
    "    max_trials=15,\n",
    "    executions_per_trial=2,\n",
    "    overwrite=True\n",
    ")"
   ]
  },
  {
   "cell_type": "code",
   "execution_count": 53,
   "id": "9897ff5d",
   "metadata": {},
   "outputs": [
    {
     "name": "stdout",
     "output_type": "stream",
     "text": [
      "Trial 15 Complete [00h 02m 29s]\n",
      "val_accuracy: 0.8325000107288361\n",
      "\n",
      "Best val_accuracy So Far: 0.9091666638851166\n",
      "Total elapsed time: 00h 23m 06s\n"
     ]
    }
   ],
   "source": [
    "tuner.search(x_train, y_train, epochs=50, validation_data=[x_val, y_val])\n"
   ]
  },
  {
   "cell_type": "code",
   "execution_count": 54,
   "id": "f025fa83",
   "metadata": {},
   "outputs": [
    {
     "name": "stdout",
     "output_type": "stream",
     "text": [
      "WARNING:tensorflow:From C:\\Anaconda\\Lib\\site-packages\\keras\\src\\saving\\legacy\\save.py:538: The name tf.train.NewCheckpointReader is deprecated. Please use tf.compat.v1.train.NewCheckpointReader instead.\n",
      "\n"
     ]
    }
   ],
   "source": [
    "model = tuner.get_best_models(num_models=1)[0]\n"
   ]
  },
  {
   "cell_type": "code",
   "execution_count": 55,
   "id": "3d6dcff1",
   "metadata": {},
   "outputs": [
    {
     "name": "stdout",
     "output_type": "stream",
     "text": [
      "19/19 [==============================] - 0s 5ms/step\n"
     ]
    }
   ],
   "source": [
    "y_pred = model.predict(x_test)\n",
    "y_true = y_test\n",
    "y_pred = np.argmax(y_pred, axis=1)\n",
    "y_true = np.argmax(y_true, axis=1)"
   ]
  },
  {
   "cell_type": "code",
   "execution_count": 56,
   "id": "1a55a0fa",
   "metadata": {},
   "outputs": [
    {
     "name": "stdout",
     "output_type": "stream",
     "text": [
      "              precision    recall  f1-score   support\n",
      "\n",
      "           0       0.89      0.90      0.90       311\n",
      "           1       0.89      0.88      0.89       289\n",
      "\n",
      "    accuracy                           0.89       600\n",
      "   macro avg       0.89      0.89      0.89       600\n",
      "weighted avg       0.89      0.89      0.89       600\n",
      "\n",
      "[[281  30]\n",
      " [ 35 254]]\n"
     ]
    }
   ],
   "source": [
    "print(metrics.classification_report(y_true, y_pred))\n",
    "print(metrics.confusion_matrix(y_true, y_pred))"
   ]
  },
  {
   "cell_type": "code",
   "execution_count": null,
   "id": "5d85841b",
   "metadata": {},
   "outputs": [],
   "source": []
  }
 ],
 "metadata": {
  "kernelspec": {
   "display_name": "Python 3 (ipykernel)",
   "language": "python",
   "name": "python3"
  },
  "language_info": {
   "codemirror_mode": {
    "name": "ipython",
    "version": 3
   },
   "file_extension": ".py",
   "mimetype": "text/x-python",
   "name": "python",
   "nbconvert_exporter": "python",
   "pygments_lexer": "ipython3",
   "version": "3.11.5"
  }
 },
 "nbformat": 4,
 "nbformat_minor": 5
}
